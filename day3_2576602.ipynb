{
  "nbformat": 4,
  "nbformat_minor": 0,
  "metadata": {
    "colab": {
      "provenance": [],
      "authorship_tag": "ABX9TyNbZah5wfNGIG4uJbfClZn4",
      "include_colab_link": true
    },
    "kernelspec": {
      "name": "python3",
      "display_name": "Python 3"
    },
    "language_info": {
      "name": "python"
    }
  },
  "cells": [
    {
      "cell_type": "markdown",
      "metadata": {
        "id": "view-in-github",
        "colab_type": "text"
      },
      "source": [
        "<a href=\"https://colab.research.google.com/github/ManasiMuchrikar03/AI_MLtraining/blob/main/day3_2576602.ipynb\" target=\"_parent\"><img src=\"https://colab.research.google.com/assets/colab-badge.svg\" alt=\"Open In Colab\"/></a>"
      ]
    },
    {
      "cell_type": "code",
      "source": [
        "with open('sample.txt','r') as f:\n",
        "  #print(f.readlines(50))\n",
        "  print(f.read(50))"
      ],
      "metadata": {
        "colab": {
          "base_uri": "https://localhost:8080/"
        },
        "id": "bubrAE8erWN5",
        "outputId": "f47f116a-377f-4626-8811-e6d29be7ca72"
      },
      "execution_count": null,
      "outputs": [
        {
          "output_type": "stream",
          "name": "stdout",
          "text": [
            "this is sample txt\n",
            "apple \n",
            "banana\n",
            "watermelon\n"
          ]
        }
      ]
    },
    {
      "cell_type": "code",
      "source": [
        "with open('sample.txt','a') as file_1:\n",
        "  file_1.write('''The digital revolution has already changed how people live\n",
        "  , work, and communicate. And it’s only just getting started. But the same technologies\n",
        "   that have the potential to help billions of people live happier, healthier,\n",
        "   ''')\n",
        "  file_1.close()"
      ],
      "metadata": {
        "id": "YchMeoJjyNyM"
      },
      "execution_count": null,
      "outputs": []
    },
    {
      "cell_type": "markdown",
      "source": [
        "print all numbers present in text file and print number of spaces in that file"
      ],
      "metadata": {
        "id": "QjRlqZni1Ayr"
      }
    },
    {
      "cell_type": "code",
      "source": [
        "with open('sample.txt' , 'r') as file_2:\n",
        "  content = file_2.readlines()\n",
        "  count = 0\n",
        "  count_1 = 0\n",
        "  for i in content:\n",
        "    if i.isspace():\n",
        "      count += 1\n",
        "  print(count)\n",
        "  for j in content:\n",
        "    if j.isdigit():\n",
        "      count_1 += 1\n",
        "  print(count_1)"
      ],
      "metadata": {
        "colab": {
          "base_uri": "https://localhost:8080/"
        },
        "id": "-iGJG6bm2Iaw",
        "outputId": "33287d39-2d90-45a6-aa57-0ac7d67764ad"
      },
      "execution_count": null,
      "outputs": [
        {
          "output_type": "stream",
          "name": "stdout",
          "text": [
            "4\n",
            "0\n"
          ]
        }
      ]
    },
    {
      "cell_type": "markdown",
      "source": [
        "text file search and replace"
      ],
      "metadata": {
        "id": "ohxiSdBH6gU1"
      }
    },
    {
      "cell_type": "code",
      "source": [
        "#1 write python code to search and replace text within text file\n",
        "with open('sample.txt' , 'r' ) as file_3:\n",
        "  search = 'apple'\n",
        "  replacement = 'strawberry'\n",
        "  content = file_3.read()\n",
        "  content = content.replace(search , replacement)\n",
        "  print(file_3.readlines())"
      ],
      "metadata": {
        "colab": {
          "base_uri": "https://localhost:8080/"
        },
        "id": "cMebDV5p7bCk",
        "outputId": "6e3ad8a8-6208-4355-8576-564d40d54dca"
      },
      "execution_count": null,
      "outputs": [
        {
          "output_type": "stream",
          "name": "stdout",
          "text": [
            "[]\n"
          ]
        }
      ]
    },
    {
      "cell_type": "code",
      "source": [
        "#how would you handle cases where you need to perform multiple replacements in single pass\n",
        "with open('sample.txt' ,'r' ) as file_3:\n",
        "  content = file_3.read()\n",
        "  replaced = content.translate(str.maketrans( 'and' , 'pnb'))"
      ],
      "metadata": {
        "id": "7VSYCj0R-2vv"
      },
      "execution_count": null,
      "outputs": []
    },
    {
      "cell_type": "markdown",
      "source": [
        "write python script that concatenates the contents of multiple text files into single output file"
      ],
      "metadata": {
        "id": "G96Ra-x3CxCD"
      }
    },
    {
      "cell_type": "code",
      "source": [
        "with open('file_1.txt') as f1:\n",
        "  content_1 = f1.read()\n",
        "with open('file_2.txt') as f2:\n",
        "  content_2 = f2.read()\n",
        "\n",
        "content_1 += '\\n'\n",
        "content_2 += content_1\n",
        "\n"
      ],
      "metadata": {
        "id": "9kKQp2YmJvFe"
      },
      "execution_count": null,
      "outputs": []
    },
    {
      "cell_type": "markdown",
      "source": [
        "you are given a file named input.txt containing list of words per line. your task is to create python programme that reads the content in input.txt and writes result in output.txt"
      ],
      "metadata": {
        "id": "zdax6FcrMFpD"
      }
    },
    {
      "cell_type": "code",
      "source": [
        "#read words from input.txt\n",
        "with open('input.txt' ,'r') as f_7:\n",
        "  print(f_7.read())\n",
        "  with open('output.txt' , 'w') as f_8:\n",
        "    for i in f_7:\n",
        "      f_8.writeline()\n",
        "    for words in f_7:\n",
        "      print(len(words))\n",
        "\n"
      ],
      "metadata": {
        "colab": {
          "base_uri": "https://localhost:8080/"
        },
        "id": "_IVQ1ievNcKm",
        "outputId": "52f9ad67-e4d2-4414-b22a-6a20bf4b1286"
      },
      "execution_count": null,
      "outputs": [
        {
          "output_type": "stream",
          "name": "stdout",
          "text": [
            "apple \n",
            "banana \n",
            "cherry \n",
            "date\n"
          ]
        }
      ]
    },
    {
      "cell_type": "markdown",
      "source": [
        "assume you are developing a gradebook for a school. the system should allow teachers to input student grades for various subjects store the data in files and provide students to view their grades"
      ],
      "metadata": {
        "id": "OLcDfbwdYMP9"
      }
    },
    {
      "cell_type": "code",
      "source": [
        "with open('input.txt' , 'a') as grades:\n",
        "  print(grades.writable())\n",
        "  l = ['john', 'a']\n",
        "  grades.writelines(l)\n",
        "  grades.close()"
      ],
      "metadata": {
        "colab": {
          "base_uri": "https://localhost:8080/"
        },
        "id": "pO11JGsVZScN",
        "outputId": "47582b7c-a972-4d89-b0db-9d107f2d9aba"
      },
      "execution_count": null,
      "outputs": [
        {
          "output_type": "stream",
          "name": "stdout",
          "text": [
            "True\n"
          ]
        }
      ]
    },
    {
      "cell_type": "code",
      "source": [
        "with open('input.txt' , 'r') as student:\n",
        "  print(student.readable())\n",
        "  student.readline()"
      ],
      "metadata": {
        "id": "jgHwobj4cTTG"
      },
      "execution_count": null,
      "outputs": []
    },
    {
      "cell_type": "markdown",
      "source": [
        "write a function called sed that takes as arguments a pattern string, a replacement string,and two file names it should read the first file and writes contents into second file. if the pattern string appears anywhere in the file, it should replaced with replacement string."
      ],
      "metadata": {
        "id": "7h4izKcNg7AQ"
      }
    },
    {
      "cell_type": "code",
      "source": [
        "def sed(pattern , replace , source):\n",
        "  try:\n",
        "    input = open('input.txt' , 'r')\n",
        "  try:\n",
        "    output = open('output.txt' , 'w')\n",
        "    for l in input:\n",
        "      l = l.replace(pattern , replace)\n",
        "      output.write()\n",
        "  except f_error:\n",
        "    print('unable to read file ')\n",
        "  except\n",
        "\n",
        "\n"
      ],
      "metadata": {
        "id": "1_-J2q2BwK8H"
      },
      "execution_count": null,
      "outputs": []
    }
  ]
}