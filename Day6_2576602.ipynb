{
 "cells": [
  {
   "cell_type": "code",
   "execution_count": 4,
   "id": "99261adb",
   "metadata": {},
   "outputs": [],
   "source": [
    "#write python program to create base class shape with methods to  calculate area and perimeter.then create derived class\n",
    "#circle and rectange that inherit from base class and calculate respective areas and perimeters\n",
    "\n",
    "class shape:\n",
    "    def length_sides(self , a , b , r):\n",
    "        self.a = length\n",
    "        self.b = breath\n",
    "        self.r = radius\n",
    "class circle(shape):\n",
    "    def circle_area(self):\n",
    "        cir_area = 3.14 * r**2\n",
    "        print(cir_area)\n",
    "    def circle_perimeter(self):\n",
    "        cir_perimeter = 3.14 * 2 * r\n",
    "        print(cie_perimeter)\n",
    "class rectangle(shape):\n",
    "    def rectangle_area(self):\n",
    "        rect_area = a * b\n",
    "        print(rect_area)\n",
    "    def rectangle_primeter(self):\n",
    "        rect_perimeter = 2 * (a + b)\n",
    "        print(rect_perimeter)\n",
    "c = circle()\n",
    "r = rectangle()\n",
    "    "
   ]
  },
  {
   "cell_type": "code",
   "execution_count": 8,
   "id": "0e182c69",
   "metadata": {},
   "outputs": [],
   "source": [
    "r = rectangle()"
   ]
  },
  {
   "cell_type": "code",
   "execution_count": 10,
   "id": "abb4b7f7",
   "metadata": {},
   "outputs": [],
   "source": [
    "#you are developing an online quiz application where the users can take quizzes on various topics nad recieve scores\n",
    "class quizz:\n",
    "    def topics(self , maths , science , gen_knowlage):\n",
    "        self.maths = maths\n",
    "        self.science = science\n",
    "        self.gen_knowlage = gen_knowlage\n",
    "        return topics\n",
    "class questions(quizz):\n",
    "    def chapter(self):\n",
    "        topic.chapter(self , maths)\n",
    "        return chapter\n",
    "class score(questions):\n",
    "    def marks(self , count):\n",
    "        self.count = count\n",
    "        \n",
    "        "
   ]
  },
  {
   "cell_type": "code",
   "execution_count": 14,
   "id": "8d99f475",
   "metadata": {},
   "outputs": [
    {
     "name": "stdout",
     "output_type": "stream",
     "text": [
      "enter your nameman\n",
      "enter your age23\n",
      "enter age23\n",
      "eligible for voting\n"
     ]
    }
   ],
   "source": [
    "# write a python program to create class person with private attributes for name and age.implement a method to calculate \n",
    "# person's eligibility for voting based on their age\n",
    "class person:\n",
    "    def __personal_details(self , name = input('enter your name') , age = int(input('enter your age'))):\n",
    "        self.name = name\n",
    "        self.age = age\n",
    "        return f\"{name} {age}\"\n",
    "    def voting_rights(self , age = int(input('enter age'))):\n",
    "        if age >= 18:\n",
    "            print('eligible for voting')\n",
    "        else:\n",
    "            print('not eligible for voting')\n",
    "details = person()\n",
    "details.voting_rights()"
   ]
  },
  {
   "cell_type": "code",
   "execution_count": 17,
   "id": "7c5e158e",
   "metadata": {},
   "outputs": [
    {
     "name": "stdout",
     "output_type": "stream",
     "text": [
      "enter account number12345\n",
      "enter namemansi\n",
      "enter balance120000\n"
     ]
    }
   ],
   "source": [
    "#you are tasekd with designing a python class hierarchy for simple banking system. the system should be able to handle different\n",
    "#types of account such as saving account and checking account. both types of account should have common attribute like an \n",
    "#account number,account holder name and balance.However saving account should have an attribute.\n",
    "class BankAccount:\n",
    "    account_number = input('enter account number')\n",
    "    account_holder_name = input('enter name')\n",
    "    balance = input('enter balance')\n",
    "    def __init__(self):\n",
    "        self.account_holder_name = account_holder_name\n",
    "        return f\"{account_holder_name}\"\n",
    "    def deposit(self):\n",
    "        self.account_number = account_number\n",
    "        self.balance = balance\n",
    "        return f\"{account_number} {account_balan}\"\n",
    "    def withdraw(self , amount_withdrawn):\n",
    "        self.amount_withdrawn = amount_withdrawn\n",
    "        return f'{amount_withdrawn}'\n",
    "class SavingAccount(BankAccount):\n",
    "    interest_rate = 0.05\n",
    "    def calculate_interest(self):\n",
    "        self.interest_rate = interest_rate\n",
    "        interest_rate = 0.05 *balance\n",
    "        print(interest_rate)\n",
    "class CheckingAccount(BankAccount):\n",
    "    overdraft_limit = 1000\n",
    "    def withdrawal(self):\n",
    "        self.overdraft_limit = overdraft_limit\n",
    "        if amount_withdrawn > overdraft_limit:\n",
    "            print('please pay additional fee')\n",
    "        else:\n",
    "            print('thank you')\n"
   ]
  },
  {
   "cell_type": "code",
   "execution_count": null,
   "id": "f2f5d66e",
   "metadata": {},
   "outputs": [],
   "source": [
    "#you are developing an employee management system for a company ensure that the system utilizes encapsulation and polymorphism \n",
    "#to handle different types of employees such as full-time and part-time\n",
    "class employee:\n",
    "    __name = input('enter name')\n",
    "    __employee_id = input('enter employee id')\n",
    "    __salary = int(input('enter salary'))\n",
    "    def __init__(self):\n",
    "        self.name = name\n",
    "        self.employee_id = employee_id\n",
    "        self.salary = salary\n",
    "class FullTimeEmployee(employee):\n",
    "    annual_salary = int(input('enter annual salary'))\n",
    "    def monthly_salary(self):\n",
    "        self.annual_salary / 12 == monthly_salary\n",
    "        return monthly_salary\n",
    "class PartTimeEmployee(employee):\n",
    "    work_hours = int(input('enter work hours'))\n",
    "    def inhand_salary(self):\n",
    "        self.work_hours = work_hours\n",
    "        work_hours * 100 == inhand_salary\n",
    "        return inhand_salary\n",
    "e1 = FullTimeEmployee()\n",
    "e2 = PartTimeEmployee()\n",
    "e1.monthly_salary()"
   ]
  },
  {
   "cell_type": "code",
   "execution_count": null,
   "id": "ab3b0bad",
   "metadata": {},
   "outputs": [],
   "source": [
    "#Library Management System-Scenario:you are developing a library management system where you need to handle books patrons and\n",
    "#library transactions.\n",
    "class library:\n",
    "    name = input('enter your name')\n",
    "    def __init__(self):\n",
    "        self.name = name\n",
    "        return name\n",
    "class books:\n",
    "    book_tittle = input('enter book tittle')\n",
    "    book_no = int(input('enter book number'))\n",
    "    def book_details(self):\n",
    "        self.book_tittle = book_tittle\n",
    "        self.book_no = book_no\n",
    "class transaction(library):\n",
    "    start_date = input('enter start date')\n",
    "    end_date = input('enter end date')\n",
    "    def details(self):\n",
    "        self.start_date = start_date\n",
    "        self.end_date = end_date"
   ]
  },
  {
   "cell_type": "code",
   "execution_count": null,
   "id": "56d848e4",
   "metadata": {},
   "outputs": [],
   "source": [
    "#online shopping cart :\n",
    "class products:\n",
    "    def categories(self , electronis , clothing , home_decor , skin_care):\n",
    "        self.electronics = electronics \n",
    "        self.clothing = clothing\n",
    "        self.home_decor = home_decor\n",
    "        self.skin_care = skin_care\n",
    "        return categories\n",
    "        \n",
    "class order(products):\n",
    "    order_id = int(input('enter order_id'))\n",
    "    address = input('enter address')\n",
    "    def order_details(self):\n",
    "        self.order_id = order_id\n",
    "        self.address = address\n",
    "        return(order_id , address)\n",
    "class payment(order):\n",
    "    amount = int(input('enter amount'))\n",
    "    payment_method =input('enter payment method')\n",
    "    def payment_details(self):\n",
    "        self.amount = amount\n",
    "        self.payment_method = payment_method"
   ]
  },
  {
   "cell_type": "code",
   "execution_count": null,
   "id": "56e1bee0",
   "metadata": {},
   "outputs": [],
   "source": []
  }
 ],
 "metadata": {
  "kernelspec": {
   "display_name": "Python 3 (ipykernel)",
   "language": "python",
   "name": "python3"
  },
  "language_info": {
   "codemirror_mode": {
    "name": "ipython",
    "version": 3
   },
   "file_extension": ".py",
   "mimetype": "text/x-python",
   "name": "python",
   "nbconvert_exporter": "python",
   "pygments_lexer": "ipython3",
   "version": "3.11.4"
  }
 },
 "nbformat": 4,
 "nbformat_minor": 5
}
