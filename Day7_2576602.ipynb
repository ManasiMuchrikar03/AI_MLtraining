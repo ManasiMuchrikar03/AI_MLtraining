{
 "cells": [
  {
   "cell_type": "code",
   "execution_count": 6,
   "id": "d6acff12",
   "metadata": {},
   "outputs": [
    {
     "name": "stdout",
     "output_type": "stream",
     "text": [
      "enter the number of elements to be inserted4\n",
      "enter elements1\n",
      "enter elements5\n",
      "enter elements6\n",
      "enter elements8\n",
      "enter the number to be searched5\n",
      "element id found at 5 \n",
      "[1, 5, 6, 8]\n"
     ]
    }
   ],
   "source": [
    "#write python program to find target values in list using linear search with following steps\n",
    "lst = []\n",
    "n = int(input('enter the number of elements to be inserted'))\n",
    "for i in range(0 , n):\n",
    "    a = int(input('enter elements'))\n",
    "    lst.append(a)\n",
    "match_item = int(input('enter the number to be searched'))\n",
    "pos = 0\n",
    "found = False\n",
    "while pos < n and not found:\n",
    "    if lst[pos] == match_item:\n",
    "        found = True\n",
    "    else: \n",
    "        pos += 1\n",
    "if found:\n",
    "    print('element id found at %d '%b)\n",
    "else:\n",
    "    print('element not found')\n",
    "print(lst)"
   ]
  },
  {
   "cell_type": "code",
   "execution_count": 8,
   "id": "794011bc",
   "metadata": {},
   "outputs": [
    {
     "data": {
      "text/plain": [
       "(2, 3)"
      ]
     },
     "execution_count": 8,
     "metadata": {},
     "output_type": "execute_result"
    }
   ],
   "source": [
    "#write a python program to implement binary search to find target values from the list\n",
    "def binary_search(lst , last ,first , e):\n",
    "    if last >= first:\n",
    "        mid = (last + first) // 2\n",
    "        if lst[mid] == e:\n",
    "            return mid\n",
    "        elif lst[mid] > e:\n",
    "            return mid - 1 , e\n",
    "        else:\n",
    "            return mid + 1 , e\n",
    "binary_search([1,2,3,4,5] , len(lst) - 1 , 0 ,3)"
   ]
  },
  {
   "cell_type": "code",
   "execution_count": 3,
   "id": "a762f9cd",
   "metadata": {},
   "outputs": [],
   "source": [
    "# write a python program to convert following infix expressions to its postfix form using push and pop operation\n",
    "def infix_postfix(expression):\n",
    "    precedence = {'+': 1, '-': 1, '*': 2, '/': 2, '^': 3}\n",
    "    lst = []\n",
    "    postfix = []\n",
    "    \n",
    "    for char in expression:\n",
    "        if char.isalnum():\n",
    "            postfix.append(char)\n",
    "        elif char == '(':\n",
    "            lst.append(char)\n",
    "        elif char == ')':\n",
    "            while lst and lst[-1] != '(':\n",
    "                lst.append(lst.pop())\n",
    "            lst.pop()  \n",
    "        else:\n",
    "            while lst and lst[-1] != '(' and precedence[char] <= precedence.get(lst[-1], 0):\n",
    "                postfix.append(lst.pop())\n",
    "            lst.append(char)\n",
    "    \n",
    "    while lst:\n",
    "        postfix.append(lst.pop())\n",
    "    \n",
    "    return ''.join(postfix)\n",
    "\n"
   ]
  },
  {
   "cell_type": "code",
   "execution_count": 14,
   "id": "2cd444ee",
   "metadata": {},
   "outputs": [
    {
     "name": "stdout",
     "output_type": "stream",
     "text": [
      "<__main__.stack object at 0x0000018F1C61AA50>\n",
      "<__main__.stack object at 0x0000018F1C61AA50>\n",
      "<__main__.stack object at 0x0000018F1C61AA50>\n",
      "<__main__.stack object at 0x0000018F1C61AA50>\n",
      "<__main__.stack object at 0x0000018F1C61AA50>\n"
     ]
    }
   ],
   "source": [
    "# write python program to implement various operations for stack\n",
    "class stack:\n",
    "    def __init__(self):\n",
    "        self.__stack = []\n",
    "    def push(self , element):\n",
    "        self.__stack.append(element)\n",
    "    def pop(self):\n",
    "        if len(self.__stack) == 0:\n",
    "            raise Exception('stack is already empty')\n",
    "        else:\n",
    "            return self.__stack.pop()\n",
    "    def is_empty(self):\n",
    "        if len(self.__stack) == 0:\n",
    "            return True\n",
    "        else:\n",
    "            return False\n",
    "    def peek(self):\n",
    "        print(self.__stack)\n",
    "        if (self.is_empty()):\n",
    "            raise Exception('Empty stack')\n",
    "        else:\n",
    "            return self.__stack[len(self.__stack) - 1]\n",
    "s = stack()\n",
    "for i in range(1,6):\n",
    "    s.push\n",
    "    print(s)       \n",
    "           "
   ]
  },
  {
   "cell_type": "code",
   "execution_count": 19,
   "id": "57017fa6",
   "metadata": {},
   "outputs": [
    {
     "name": "stdout",
     "output_type": "stream",
     "text": [
      "[1]\n",
      "[1, 5]\n"
     ]
    }
   ],
   "source": [
    "# write python script to implement various operations for queue\n",
    "class queue():\n",
    "    def __init__(self):\n",
    "        self.__queue = []\n",
    "    def is_empty(self):\n",
    "        if len(self.__queue) == 0:\n",
    "            return True\n",
    "        else:\n",
    "            return False\n",
    "    def enqueue(self , element):\n",
    "        self.__queue.append(element)\n",
    "        print(self.__queue)\n",
    "    def dequeue(self):\n",
    "        print(self.__queue)\n",
    "        return self.__queue.pop(0)\n",
    "    def peek(self):\n",
    "        if len(self.__queue) == 0:\n",
    "            raise Exception ('queue is empty')\n",
    "        else:\n",
    "            return self.__queue[0]\n",
    "\n",
    "q = queue()\n",
    "q.enqueue(1)    \n",
    "q.enqueue(5)"
   ]
  },
  {
   "cell_type": "code",
   "execution_count": 2,
   "id": "a2f11412",
   "metadata": {},
   "outputs": [],
   "source": [
    "# write python script to proform operation in silngly linked list\n",
    "\n",
    "class node:\n",
    "    def __init__(self , value = None , nextvalue = None):\n",
    "        self.value = value\n",
    "        self.nextvalue = nextvalue\n",
    "class linkedlist:\n",
    "    def __init__(self):\n",
    "        self.head = None\n",
    "    def curser(self):\n",
    "        nodes = []\n",
    "        curr = self.head\n",
    "        while curr:\n",
    "            nodes.append(curser(curr))\n",
    "            curr = curr.nextlevel\n",
    "\n",
    "    def prepend(self,value):\n",
    "        self.head = node(value=value,nextnalue=self.head)\n",
    "        print(self.head)\n",
    "    def append(self,value):\n",
    "        if not self.head:\n",
    "            self.head=node(datavalue=datavalue)\n",
    "            return\n",
    "        curr=self.head\n",
    "    def find(self,data):\n",
    "        curr=self.head\n",
    "        while curr and curr.value != data:\n",
    "            curr=curr.nextval\n",
    "        return curr\n",
    "    def remove(self):\n",
    "        curr=self.head\n",
    "        "
   ]
  },
  {
   "cell_type": "code",
   "execution_count": null,
   "id": "1de2c31d",
   "metadata": {},
   "outputs": [],
   "source": []
  }
 ],
 "metadata": {
  "kernelspec": {
   "display_name": "Python 3 (ipykernel)",
   "language": "python",
   "name": "python3"
  },
  "language_info": {
   "codemirror_mode": {
    "name": "ipython",
    "version": 3
   },
   "file_extension": ".py",
   "mimetype": "text/x-python",
   "name": "python",
   "nbconvert_exporter": "python",
   "pygments_lexer": "ipython3",
   "version": "3.11.4"
  }
 },
 "nbformat": 4,
 "nbformat_minor": 5
}
