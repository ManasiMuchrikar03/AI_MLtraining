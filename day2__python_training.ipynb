{
  "nbformat": 4,
  "nbformat_minor": 0,
  "metadata": {
    "colab": {
      "provenance": [],
      "authorship_tag": "ABX9TyMFAJWVSQDR950gu2LyyrVn",
      "include_colab_link": true
    },
    "kernelspec": {
      "name": "python3",
      "display_name": "Python 3"
    },
    "language_info": {
      "name": "python"
    }
  },
  "cells": [
    {
      "cell_type": "markdown",
      "metadata": {
        "id": "view-in-github",
        "colab_type": "text"
      },
      "source": [
        "<a href=\"https://colab.research.google.com/github/ManasiMuchrikar03/AI_MLtraining/blob/main/day2__python_training.ipynb\" target=\"_parent\"><img src=\"https://colab.research.google.com/assets/colab-badge.svg\" alt=\"Open In Colab\"/></a>"
      ]
    },
    {
      "cell_type": "markdown",
      "source": [
        "write python function to list even and odd number in list"
      ],
      "metadata": {
        "id": "oNR_xPcqnvlc"
      }
    },
    {
      "cell_type": "code",
      "source": [
        "def num_gen(n):\n",
        "  lst_1 = []\n",
        "  for i in range(n):\n",
        "    if i % 2 == 0:\n",
        "      lst_1.append(i)\n",
        "  print(lst_1)\n",
        "\n",
        "def odd_num(n):\n",
        "  lst_2 = []\n",
        "  for i in range(n):\n",
        "    if i % 2 != 0:\n",
        "      lst_2.append(i)\n",
        "  print(lst_2)\n",
        "\n",
        "\n",
        "\n",
        "print(num_gen(20))\n",
        "print(odd_num(20))"
      ],
      "metadata": {
        "colab": {
          "base_uri": "https://localhost:8080/"
        },
        "id": "U9P4ceLhn9a6",
        "outputId": "734fc24d-ed38-41fd-fd1f-d855f0611061"
      },
      "execution_count": null,
      "outputs": [
        {
          "output_type": "stream",
          "name": "stdout",
          "text": [
            "[0, 2, 4, 6, 8, 10, 12, 14, 16, 18]\n",
            "None\n",
            "[1, 3, 5, 7, 9, 11, 13, 15, 17, 19]\n",
            "None\n"
          ]
        }
      ]
    },
    {
      "cell_type": "markdown",
      "source": [
        "write python programme to that asks the user to enter 8 integers and then print how many of these numbers are even"
      ],
      "metadata": {
        "id": "ARAixFrKsoQk"
      }
    },
    {
      "cell_type": "code",
      "source": [
        "def odd_even():\n",
        "  lst = []\n",
        "  for i in range(1 , 8):\n",
        "    n = int(input())\n",
        "    if n % 2 == 0:\n",
        "      lst.append(n)\n",
        "  print(lst)\n",
        "\n",
        "odd_even()\n"
      ],
      "metadata": {
        "colab": {
          "base_uri": "https://localhost:8080/"
        },
        "id": "9Z1W73Iktjbe",
        "outputId": "07eaf54d-2b2d-4655-9243-46a4b68696ce"
      },
      "execution_count": null,
      "outputs": [
        {
          "output_type": "stream",
          "name": "stdout",
          "text": [
            "2\n",
            "4\n",
            "6\n",
            "8\n",
            "10\n",
            "1\n",
            "3\n",
            "[2, 4, 6, 8, 10]\n"
          ]
        }
      ]
    },
    {
      "cell_type": "markdown",
      "source": [
        "write python programme where you take postive integers, if even divide by 2 if odd multiply by 3 and add 1. Repeat this till you reach 1"
      ],
      "metadata": {
        "id": "KBJJaXhyvzHu"
      }
    },
    {
      "cell_type": "code",
      "source": [
        "def gen_num(n):\n",
        "  while (n == 1):\n",
        "    if n % 2 == 0:\n",
        "      n = n / 2\n",
        "    else:\n",
        "      n = (3 * n) + 1\n",
        "  return n\n",
        "\n",
        "gen_num(4)\n",
        "\n",
        "\n"
      ],
      "metadata": {
        "colab": {
          "base_uri": "https://localhost:8080/"
        },
        "id": "9Qj_6DoyxMtV",
        "outputId": "9d8d082d-182b-40fc-f2b8-9d726fcc0d83"
      },
      "execution_count": null,
      "outputs": [
        {
          "output_type": "execute_result",
          "data": {
            "text/plain": [
              "4"
            ]
          },
          "metadata": {},
          "execution_count": 17
        }
      ]
    },
    {
      "cell_type": "markdown",
      "source": [
        "write python programme to compute the sum of all the multiples of 3 or 5 below 500"
      ],
      "metadata": {
        "id": "nknXftDWy12w"
      }
    },
    {
      "cell_type": "code",
      "source": [
        "number = 0\n",
        "for i in range(1 , 500):\n",
        "  if i % 5  == 0 or i % 3 == 0:\n",
        "    number = number + i\n",
        "print(number)"
      ],
      "metadata": {
        "colab": {
          "base_uri": "https://localhost:8080/"
        },
        "id": "igmCqvmwz5s7",
        "outputId": "489ef8cf-0784-4d7e-ad57-2052a81d120c"
      },
      "execution_count": null,
      "outputs": [
        {
          "output_type": "stream",
          "name": "stdout",
          "text": [
            "57918\n"
          ]
        }
      ]
    },
    {
      "cell_type": "markdown",
      "source": [
        "write python programme to find first n prime numbers for a given list of numbers"
      ],
      "metadata": {
        "id": "eepU_HK10vyl"
      }
    },
    {
      "cell_type": "code",
      "source": [
        "prime_lst = [ 2 , 17 , 12 , 32, 7]\n",
        "\n",
        "for element in prime_lst:\n",
        "  if element == 0:\n",
        "    print('invalid number')\n"
      ],
      "metadata": {
        "id": "1GrElw0P1HPM"
      },
      "execution_count": null,
      "outputs": []
    },
    {
      "cell_type": "markdown",
      "source": [
        "write python programme to count vowels in a string"
      ],
      "metadata": {
        "id": "7z-HmePs5c40"
      }
    },
    {
      "cell_type": "code",
      "source": [
        "text = 'machine learning'\n",
        "vowels = 0\n",
        "for i in text:\n",
        "  if i == 'a' or i == 'e' or i == 'i' or i == 'o' or i == 'u':\n",
        "    vowels = vowels + 1\n",
        "print(vowels)"
      ],
      "metadata": {
        "colab": {
          "base_uri": "https://localhost:8080/"
        },
        "id": "kx9fZ-rd5qfG",
        "outputId": "88781164-65c0-4cd5-a3f9-38ef91fd8e1c"
      },
      "execution_count": null,
      "outputs": [
        {
          "output_type": "stream",
          "name": "stdout",
          "text": [
            "6\n"
          ]
        }
      ]
    },
    {
      "cell_type": "markdown",
      "source": [
        "write python function to find factorial of a number using recursive function"
      ],
      "metadata": {
        "id": "YEO6pA8L60jX"
      }
    },
    {
      "cell_type": "code",
      "source": [
        "def fact (n):\n",
        "  if n == 1:\n",
        "    return 1\n",
        "  else:\n",
        "    n = n * fact(n - 1)\n",
        "    return n\n",
        "\n",
        "fact(5)"
      ],
      "metadata": {
        "colab": {
          "base_uri": "https://localhost:8080/"
        },
        "id": "z-3dAtWR767d",
        "outputId": "a886993f-89b9-40a4-b1ce-786485973d91"
      },
      "execution_count": null,
      "outputs": [
        {
          "output_type": "execute_result",
          "data": {
            "text/plain": [
              "120"
            ]
          },
          "metadata": {},
          "execution_count": 22
        }
      ]
    },
    {
      "cell_type": "markdown",
      "source": [
        "write python function to write fibonacci series using function"
      ],
      "metadata": {
        "id": "ZeMaMVSK9HKf"
      }
    },
    {
      "cell_type": "code",
      "source": [
        "def fib_series(n):\n",
        "  if n < 0:\n",
        "    print('invalid number')\n",
        "  elif n == 0:\n",
        "    return 0\n",
        "\n",
        "  elif  n == 1:\n",
        "    return 1\n",
        "  else:\n",
        "    return  (n-1) + (n - 2)\n",
        "\n",
        "\n",
        "fib_series(5)\n"
      ],
      "metadata": {
        "colab": {
          "base_uri": "https://localhost:8080/"
        },
        "id": "EI24KNk99Zsi",
        "outputId": "c353f114-37c9-4f8e-c595-fb8cea107242"
      },
      "execution_count": null,
      "outputs": [
        {
          "output_type": "execute_result",
          "data": {
            "text/plain": [
              "7"
            ]
          },
          "metadata": {},
          "execution_count": 24
        }
      ]
    },
    {
      "cell_type": "markdown",
      "source": [
        "write python programme to display the given integer in reverse order without using in-built function"
      ],
      "metadata": {
        "id": "nNI7Hui-AjzU"
      }
    },
    {
      "cell_type": "code",
      "source": [
        "number = 3547\n",
        "r_number = 0\n",
        "while (number > 0):\n",
        "  r = number % 10\n",
        "  r_number = (r_number * 10) + r\n",
        "  number = number // 10\n",
        "\n",
        "print(r_number)\n"
      ],
      "metadata": {
        "colab": {
          "base_uri": "https://localhost:8080/"
        },
        "id": "oa1BvCAPC7Ce",
        "outputId": "b7c3102d-0176-4523-8350-ffbf674b116e"
      },
      "execution_count": null,
      "outputs": [
        {
          "output_type": "stream",
          "name": "stdout",
          "text": [
            "7453\n"
          ]
        }
      ]
    },
    {
      "cell_type": "markdown",
      "source": [
        "write python programme to find number of digits and sum of digits for given integer"
      ],
      "metadata": {
        "id": "8f27MwDoFjNq"
      }
    },
    {
      "cell_type": "code",
      "source": [
        "number = '34579'\n",
        "sum = 0\n",
        "for i in number:\n",
        "  sum = sum + int(i)\n",
        "\n",
        "print(sum)\n",
        "print(len(number))"
      ],
      "metadata": {
        "colab": {
          "base_uri": "https://localhost:8080/"
        },
        "id": "1ezKYYrpGYeS",
        "outputId": "2f8fcaf0-9e3b-4be1-f5d3-c69712ba670a"
      },
      "execution_count": null,
      "outputs": [
        {
          "output_type": "stream",
          "name": "stdout",
          "text": [
            "28\n",
            "5\n"
          ]
        }
      ]
    },
    {
      "cell_type": "markdown",
      "source": [
        "write python function to display all integers within the range 200-300 whose sum of digit is an even number"
      ],
      "metadata": {
        "id": "OYHUmuUmqoEM"
      }
    },
    {
      "cell_type": "code",
      "source": [
        "a = 200\n",
        "b = 300\n",
        "sum = 0\n",
        "for i in range (a , b + 1):\n",
        "  for j in str(i):\n",
        "    sum = sum + int(j)\n",
        "    if sum % 2 == 0:\n",
        "      print(i)\n",
        "\n"
      ],
      "metadata": {
        "colab": {
          "base_uri": "https://localhost:8080/"
        },
        "id": "C7NEkggxrvPc",
        "outputId": "845e3522-5cd8-4dc4-9c98-0a8cf6010841"
      },
      "execution_count": null,
      "outputs": [
        {
          "output_type": "stream",
          "name": "stdout",
          "text": [
            "200\n",
            "200\n",
            "200\n",
            "201\n",
            "201\n",
            "203\n",
            "204\n",
            "204\n",
            "204\n",
            "205\n",
            "205\n",
            "207\n",
            "208\n",
            "208\n",
            "208\n",
            "209\n",
            "209\n",
            "210\n",
            "210\n",
            "211\n",
            "211\n",
            "212\n",
            "213\n",
            "214\n",
            "214\n",
            "215\n",
            "215\n",
            "216\n",
            "217\n",
            "218\n",
            "218\n",
            "219\n",
            "219\n",
            "220\n",
            "220\n",
            "220\n",
            "221\n",
            "221\n",
            "223\n",
            "224\n",
            "224\n",
            "224\n",
            "225\n",
            "225\n",
            "227\n",
            "228\n",
            "228\n",
            "228\n",
            "229\n",
            "229\n",
            "230\n",
            "230\n",
            "231\n",
            "231\n",
            "232\n",
            "233\n",
            "234\n",
            "234\n",
            "235\n",
            "235\n",
            "236\n",
            "237\n",
            "238\n",
            "238\n",
            "239\n",
            "239\n",
            "240\n",
            "240\n",
            "240\n",
            "241\n",
            "241\n",
            "243\n",
            "244\n",
            "244\n",
            "244\n",
            "245\n",
            "245\n",
            "247\n",
            "248\n",
            "248\n",
            "248\n",
            "249\n",
            "249\n",
            "250\n",
            "250\n",
            "251\n",
            "251\n",
            "252\n",
            "253\n",
            "254\n",
            "254\n",
            "255\n",
            "255\n",
            "256\n",
            "257\n",
            "258\n",
            "258\n",
            "259\n",
            "259\n",
            "260\n",
            "260\n",
            "260\n",
            "261\n",
            "261\n",
            "263\n",
            "264\n",
            "264\n",
            "264\n",
            "265\n",
            "265\n",
            "267\n",
            "268\n",
            "268\n",
            "268\n",
            "269\n",
            "269\n",
            "270\n",
            "270\n",
            "271\n",
            "271\n",
            "272\n",
            "273\n",
            "274\n",
            "274\n",
            "275\n",
            "275\n",
            "276\n",
            "277\n",
            "278\n",
            "278\n",
            "279\n",
            "279\n",
            "280\n",
            "280\n",
            "280\n",
            "281\n",
            "281\n",
            "283\n",
            "284\n",
            "284\n",
            "284\n",
            "285\n",
            "285\n",
            "287\n",
            "288\n",
            "288\n",
            "288\n",
            "289\n",
            "289\n",
            "290\n",
            "290\n",
            "291\n",
            "291\n",
            "292\n",
            "293\n",
            "294\n",
            "294\n",
            "295\n",
            "295\n",
            "296\n",
            "297\n",
            "298\n",
            "298\n",
            "299\n",
            "299\n"
          ]
        }
      ]
    },
    {
      "cell_type": "markdown",
      "source": [
        "write python programme for matrix multiplication"
      ],
      "metadata": {
        "id": "ilqjFvnRBVUL"
      }
    },
    {
      "cell_type": "code",
      "source": [
        "mat_1 = [[1,2,3],\n",
        "         [4,5,6],\n",
        "         [7,8,9]]\n",
        "mat_2 = [[1,2,3],\n",
        "         [4,5,6],\n",
        "         [7,8,9]]\n",
        "result = [[0,0,0],\n",
        "          [0,0,0],\n",
        "          [0,0,0]]\n",
        "for i in range(len(mat_1)):\n",
        "    for j in range(len(mat_2[0])):\n",
        "        for k in range(len(mat_2)):\n",
        "            result[i][j] += mat_1[i][k] * mat_2[k][j]\n",
        "\n",
        "\n"
      ],
      "metadata": {
        "id": "pfegpiINBf_x"
      },
      "execution_count": 13,
      "outputs": []
    }
  ]
}