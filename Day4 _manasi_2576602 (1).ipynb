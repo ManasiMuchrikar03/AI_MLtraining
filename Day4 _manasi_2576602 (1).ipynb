{
 "cells": [
  {
   "cell_type": "code",
   "execution_count": 10,
   "id": "7b31f68b",
   "metadata": {},
   "outputs": [
    {
     "name": "stdout",
     "output_type": "stream",
     "text": [
      "enter chem marks90\n",
      "enter phy marks90\n",
      "enter maths marks90\n",
      "something went wrong\n",
      "\n"
     ]
    }
   ],
   "source": [
    "chem = int(input('enter chem marks'))\n",
    "phy = int(input('enter phy marks'))\n",
    "maths = int(input('enter maths marks'))\n",
    "percentage = ((chem + phy + maths) / 100) *100\n",
    "grade = ''\n",
    "try:\n",
    "    \n",
    "    if percentage > 40:\n",
    "        raise Exeption('you failed to clear exam')\n",
    "    elif percentage >= 40:\n",
    "        grade = 'E'\n",
    "    elif percentage >= 60:\n",
    "        grade = 'D'\n",
    "    elif percentage >= 70:\n",
    "        grade = 'C'\n",
    "    elif percentage >= 80:\n",
    "        grade = 'B'\n",
    "    elif percentage >= 90:\n",
    "        grade = 'A'\n",
    "except :\n",
    "    print('something went wrong') \n",
    "    \n",
    "finally:\n",
    "    print(grade)"
   ]
  },
  {
   "cell_type": "code",
   "execution_count": 11,
   "id": "6b01cf6d",
   "metadata": {},
   "outputs": [
    {
     "name": "stdout",
     "output_type": "stream",
     "text": [
      "enter units used150\n",
      "continue\n",
      "112.5\n"
     ]
    }
   ],
   "source": [
    "# write python program for exception handeling to input electricity unit charges and calculate total electricity bill according\n",
    "#to the given condition\n",
    "\n",
    "unit_no = float(input('enter units used'))\n",
    "bill_amount = 0\n",
    "try:\n",
    "    if unit_no < 0:\n",
    "        raise ValueError('please enter valid number')\n",
    "    else:\n",
    "        print('continue')\n",
    "    \n",
    "    if unit_no == 50:\n",
    "        bill_amount = 0.50 * 50\n",
    "    elif unit_no == 150:\n",
    "        bill_amount = 0.75 * 150\n",
    "    elif unit_no == 250:\n",
    "        bill_amount = 1.20 * 250\n",
    "    elif unit_no > 250:\n",
    "        bill_amount = unit_no * 1.50\n",
    "except ValueError as e:\n",
    "    print(e)\n",
    "finally:\n",
    "    print(bill_amount)"
   ]
  },
  {
   "cell_type": "code",
   "execution_count": 14,
   "id": "cf675a13",
   "metadata": {},
   "outputs": [
    {
     "name": "stdout",
     "output_type": "stream",
     "text": [
      "enter week number0\n",
      "please enter valid number\n",
      "\n"
     ]
    }
   ],
   "source": [
    "#write python program with exeption handeling to input the week number and print the weekday\n",
    "\n",
    "week_num = int(input('enter week number'))\n",
    "weekday = ''\n",
    "try:\n",
    "    if week_num == 0:\n",
    "        raise ValueError('please enter valid number')\n",
    "    else:\n",
    "        print('continue')\n",
    "    if week_num == 1:\n",
    "        weekday = 'monday'\n",
    "    elif week_num == 2:\n",
    "        weekday = 'tuesday'\n",
    "    elif week_num == 3:\n",
    "        weekday = 'wednesday'  \n",
    "    elif week_num == 4:\n",
    "        weekday = 'thursday'     \n",
    "    elif week_num == 5:\n",
    "        weekday = 'friday'  \n",
    "    elif week_num == 6:\n",
    "        weekday = 'saturday'   \n",
    "    elif week_num == 7:\n",
    "        weekday = 'sunday'  \n",
    "except ValueError as a:\n",
    "    print(a)\n",
    "finally:\n",
    "    print(weekday)\n",
    "        \n",
    "        "
   ]
  },
  {
   "cell_type": "code",
   "execution_count": 19,
   "id": "74d8a754",
   "metadata": {},
   "outputs": [
    {
     "data": {
      "text/plain": [
       "_StoreAction(option_strings=[], dest='apple', nargs=None, const=None, default=None, type=FileType('r'), choices=None, required=True, help=None, metavar=None)"
      ]
     },
     "execution_count": 19,
     "metadata": {},
     "output_type": "execute_result"
    }
   ],
   "source": [
    "#write python program to implement word count using command line arguments\n",
    "\n",
    "import argparse\n",
    "parser = argparse.ArgumentParser()\n",
    "parser.add_argument('apple' , type = argparse.FileType('r'))\n",
    "\n"
   ]
  },
  {
   "cell_type": "code",
   "execution_count": 20,
   "id": "0446eea5",
   "metadata": {},
   "outputs": [
    {
     "ename": "NameError",
     "evalue": "name 'args' is not defined",
     "output_type": "error",
     "traceback": [
      "\u001b[1;31m---------------------------------------------------------------------------\u001b[0m",
      "\u001b[1;31mNameError\u001b[0m                                 Traceback (most recent call last)",
      "Cell \u001b[1;32mIn[20], line 1\u001b[0m\n\u001b[1;32m----> 1\u001b[0m \u001b[38;5;28mprint\u001b[39m(args\u001b[38;5;241m.\u001b[39mfile\u001b[38;5;241m.\u001b[39mreadline())\n",
      "\u001b[1;31mNameError\u001b[0m: name 'args' is not defined"
     ]
    }
   ],
   "source": [
    "print(args.file.readline())"
   ]
  },
  {
   "cell_type": "code",
   "execution_count": 22,
   "id": "75bba09f",
   "metadata": {},
   "outputs": [
    {
     "data": {
      "text/plain": [
       "_StoreAction(option_strings=[], dest='apple', nargs=None, const=None, default=None, type=None, choices=None, required=True, help='convert lowercase to uppercase', metavar=None)"
      ]
     },
     "execution_count": 22,
     "metadata": {},
     "output_type": "execute_result"
    }
   ],
   "source": [
    "#write python program for finding most frequent words in text file\n",
    "import argparse\n",
    "parser = argparse.ArgumentParser(description='convert from lowercase to uppercae')\n",
    "parser.add_argument('apple' , type = argparse.FileType('r'))\n",
    "parser.add_argument('apple', help = 'convert lowercase to uppercase')\n"
   ]
  },
  {
   "cell_type": "code",
   "execution_count": 25,
   "id": "336d9876",
   "metadata": {},
   "outputs": [
    {
     "ename": "AttributeError",
     "evalue": "'ArgumentParser' object has no attribute 'add_agruments'",
     "output_type": "error",
     "traceback": [
      "\u001b[1;31m---------------------------------------------------------------------------\u001b[0m",
      "\u001b[1;31mAttributeError\u001b[0m                            Traceback (most recent call last)",
      "Cell \u001b[1;32mIn[25], line 1\u001b[0m\n\u001b[1;32m----> 1\u001b[0m parser\u001b[38;5;241m.\u001b[39madd_agruments(\u001b[38;5;124m'\u001b[39m\u001b[38;5;124mapple\u001b[39m\u001b[38;5;124m'\u001b[39m, help \u001b[38;5;241m=\u001b[39m\u001b[38;5;124m'\u001b[39m\u001b[38;5;124msort the list of words\u001b[39m\u001b[38;5;124m'\u001b[39m)\n",
      "\u001b[1;31mAttributeError\u001b[0m: 'ArgumentParser' object has no attribute 'add_agruments'"
     ]
    }
   ],
   "source": [
    "parser.add_agruments('apple', help ='sort the list of words')\n"
   ]
  },
  {
   "cell_type": "code",
   "execution_count": 1,
   "id": "f9021c83",
   "metadata": {},
   "outputs": [],
   "source": [
    "#6 you are developing a command line utility that processes text files. Users can can specify input and output file path\n",
    "\n",
    "def aiml(input_path, output_path):\n",
    "    try:\n",
    "        with open(input_path, 'r') as file_1, open(output_path, 'w') as file_2:\n",
    "            data = file_1.read()\n",
    "            file_2.write(data)\n",
    "        print(f\"File copied from '{input_path}' to '{output_path}'\")\n",
    "    except FileNotFoundError:\n",
    "        print(\"Error: One or both files not found.\")\n",
    "    except Exception as e:\n",
    "        print(f\"An error occurred: {e}\")"
   ]
  },
  {
   "cell_type": "code",
   "execution_count": null,
   "id": "ac3b661c",
   "metadata": {},
   "outputs": [],
   "source": []
  }
 ],
 "metadata": {
  "kernelspec": {
   "display_name": "Python 3 (ipykernel)",
   "language": "python",
   "name": "python3"
  },
  "language_info": {
   "codemirror_mode": {
    "name": "ipython",
    "version": 3
   },
   "file_extension": ".py",
   "mimetype": "text/x-python",
   "name": "python",
   "nbconvert_exporter": "python",
   "pygments_lexer": "ipython3",
   "version": "3.11.4"
  }
 },
 "nbformat": 4,
 "nbformat_minor": 5
}
