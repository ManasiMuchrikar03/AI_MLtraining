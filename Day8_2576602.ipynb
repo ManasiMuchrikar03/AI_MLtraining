{
 "cells": [
  {
   "cell_type": "code",
   "execution_count": 8,
   "id": "26c5e813",
   "metadata": {},
   "outputs": [
    {
     "name": "stdout",
     "output_type": "stream",
     "text": [
      "enter number of elements6\n",
      "enter the elements6\n"
     ]
    },
    {
     "ename": "IndexError",
     "evalue": "list index out of range",
     "output_type": "error",
     "traceback": [
      "\u001b[1;31m---------------------------------------------------------------------------\u001b[0m",
      "\u001b[1;31mIndexError\u001b[0m                                Traceback (most recent call last)",
      "Cell \u001b[1;32mIn[8], line 8\u001b[0m\n\u001b[0;32m      6\u001b[0m     lst\u001b[38;5;241m.\u001b[39mappend(a)\n\u001b[0;32m      7\u001b[0m \u001b[38;5;28;01mfor\u001b[39;00m i \u001b[38;5;129;01min\u001b[39;00m \u001b[38;5;28mrange\u001b[39m(\u001b[38;5;241m0\u001b[39m,n):\n\u001b[1;32m----> 8\u001b[0m     key \u001b[38;5;241m=\u001b[39m \u001b[38;5;28mint\u001b[39m(lst[i])\n\u001b[0;32m      9\u001b[0m     j \u001b[38;5;241m=\u001b[39m i\u001b[38;5;241m-\u001b[39m\u001b[38;5;241m1\u001b[39m\n\u001b[0;32m     10\u001b[0m     \u001b[38;5;28;01mwhile\u001b[39;00m temp \u001b[38;5;241m<\u001b[39m \u001b[38;5;28mint\u001b[39m(lst[j]) \u001b[38;5;129;01mand\u001b[39;00m j \u001b[38;5;241m>\u001b[39m\u001b[38;5;241m=\u001b[39m \u001b[38;5;241m0\u001b[39m:\n",
      "\u001b[1;31mIndexError\u001b[0m: list index out of range"
     ]
    }
   ],
   "source": [
    "#write python program for sorting a list of elements using insertion sort algorithm:\n",
    "lst = []\n",
    "n = int(input('enter number of elements'))\n",
    "for i in range(0 , 1):\n",
    "    a = int(input('enter the elements'))\n",
    "    lst.append(a)\n",
    "for i in range(1,n):\n",
    "    key = int(lst[i])\n",
    "    j = i-1\n",
    "    while temp < int(lst[j]) and j >= 0:\n",
    "        lst[j+1] = lst[j]\n",
    "        j = j-1\n",
    "        lst[j + 1] = key\n",
    "        print(lst)\n"
   ]
  },
  {
   "cell_type": "code",
   "execution_count": 5,
   "id": "ae05abe7",
   "metadata": {},
   "outputs": [
    {
     "name": "stdout",
     "output_type": "stream",
     "text": [
      "None\n"
     ]
    }
   ],
   "source": [
    "# write a python program that performs merge sort on a list of numbers\n",
    "def merge_sort(data):\n",
    "    if len(data)>1:\n",
    "        mid = len(data) // 2\n",
    "        left_half = data[:mid]\n",
    "        right_half = data[mid:]\n",
    "        i=0\n",
    "        j=0\n",
    "        k=0\n",
    "        while i < len(left_half) and j < len(right_half):\n",
    "            if int(left_half[i]) < int(right_half[j]):\n",
    "                data[k] = left_half[i]\n",
    "                i = i + 1\n",
    "            else:\n",
    "                data[k] = right_half[j]\n",
    "                j = j + 1\n",
    "                k = k +1\n",
    "        while i < len(left_half):\n",
    "            data[k] = left_half[i]\n",
    "            i = i + 1\n",
    "            k = k + 1\n",
    "        while j < len(right_half):\n",
    "            data[k] = right_half[j]\n",
    "            j = j + 1\n",
    "            k = k + 1\n",
    "print(merge_sort([4 , 34 , 1, 67 , 9]))\n",
    "        \n",
    "    "
   ]
  },
  {
   "cell_type": "code",
   "execution_count": 6,
   "id": "57f41271",
   "metadata": {},
   "outputs": [
    {
     "name": "stdout",
     "output_type": "stream",
     "text": [
      "[3, 4, 5, 13, 19, 21, 27, 56]\n"
     ]
    }
   ],
   "source": [
    "# write a python program for sorting a list of elements using selection sort\n",
    "def selection_sort(lst , size):\n",
    "    for i in range(size):\n",
    "        min_index = i\n",
    "        for j in range(i + 1 , size):\n",
    "            if lst[j] < lst[min_index]:\n",
    "                min_index = j\n",
    "        lst[i],lst[min_index] = lst[min_index],lst[i]\n",
    "lst = [3,56,5,13,27,19,4,21]\n",
    "size = len(lst)\n",
    "selection_sort(lst,size)\n",
    "print(lst)"
   ]
  },
  {
   "cell_type": "code",
   "execution_count": null,
   "id": "f418113e",
   "metadata": {},
   "outputs": [],
   "source": []
  }
 ],
 "metadata": {
  "kernelspec": {
   "display_name": "Python 3 (ipykernel)",
   "language": "python",
   "name": "python3"
  },
  "language_info": {
   "codemirror_mode": {
    "name": "ipython",
    "version": 3
   },
   "file_extension": ".py",
   "mimetype": "text/x-python",
   "name": "python",
   "nbconvert_exporter": "python",
   "pygments_lexer": "ipython3",
   "version": "3.11.4"
  }
 },
 "nbformat": 4,
 "nbformat_minor": 5
}
