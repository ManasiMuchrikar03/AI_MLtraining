{
 "cells": [
  {
   "cell_type": "code",
   "execution_count": 10,
   "id": "fb02e35c",
   "metadata": {},
   "outputs": [
    {
     "name": "stdout",
     "output_type": "stream",
     "text": [
      "enter chem marks90\n",
      "enter phy marks90\n",
      "enter maths marks90\n",
      "something went wrong\n",
      "\n"
     ]
    }
   ],
   "source": [
    "chem = int(input('enter chem marks'))\n",
    "phy = int(input('enter phy marks'))\n",
    "maths = int(input('enter maths marks'))\n",
    "percentage = ((chem + phy + maths) / 100) *100\n",
    "grade = ''\n",
    "try:\n",
    "    \n",
    "    if percentage > 40:\n",
    "        raise Exeption('you failed to clear exam')\n",
    "    elif percentage >= 40:\n",
    "        grade = 'E'\n",
    "    elif percentage >= 60:\n",
    "        grade = 'D'\n",
    "    elif percentage >= 70:\n",
    "        grade = 'C'\n",
    "    elif percentage >= 80:\n",
    "        grade = 'B'\n",
    "    elif percentage >= 90:\n",
    "        grade = 'A'\n",
    "except :\n",
    "    print('something went wrong') \n",
    "    \n",
    "finally:\n",
    "    print(grade)"
   ]
  },
  {
   "cell_type": "code",
   "execution_count": 11,
   "id": "c293b344",
   "metadata": {},
   "outputs": [
    {
     "name": "stdout",
     "output_type": "stream",
     "text": [
      "enter units used150\n",
      "continue\n",
      "112.5\n"
     ]
    }
   ],
   "source": [
    "# write python program for exception handeling to input electricity unit charges and calculate total electricity bill according\n",
    "#to the given condition\n",
    "\n",
    "unit_no = float(input('enter units used'))\n",
    "bill_amount = 0\n",
    "try:\n",
    "    if unit_no < 0:\n",
    "        raise ValueError('please enter valid number')\n",
    "    else:\n",
    "        print('continue')\n",
    "    \n",
    "    if unit_no == 50:\n",
    "        bill_amount = 0.50 * 50\n",
    "    elif unit_no == 150:\n",
    "        bill_amount = 0.75 * 150\n",
    "    elif unit_no == 250:\n",
    "        bill_amount = 1.20 * 250\n",
    "    elif unit_no > 250:\n",
    "        bill_amount = unit_no * 1.50\n",
    "except ValueError as e:\n",
    "    print(e)\n",
    "finally:\n",
    "    print(bill_amount)"
   ]
  },
  {
   "cell_type": "code",
   "execution_count": 14,
   "id": "f6e1a9d0",
   "metadata": {},
   "outputs": [
    {
     "name": "stdout",
     "output_type": "stream",
     "text": [
      "enter week number0\n",
      "please enter valid number\n",
      "\n"
     ]
    }
   ],
   "source": [
    "#write python program with exeption handeling to input the week number and print the weekday\n",
    "\n",
    "week_num = int(input('enter week number'))\n",
    "weekday = ''\n",
    "try:\n",
    "    if week_num == 0:\n",
    "        raise ValueError('please enter valid number')\n",
    "    else:\n",
    "        print('continue')\n",
    "    if week_num == 1:\n",
    "        weekday = 'monday'\n",
    "    elif week_num == 2:\n",
    "        weekday = 'tuesday'\n",
    "    elif week_num == 3:\n",
    "        weekday = 'wednesday'  \n",
    "    elif week_num == 4:\n",
    "        weekday = 'thursday'     \n",
    "    elif week_num == 5:\n",
    "        weekday = 'friday'  \n",
    "    elif week_num == 6:\n",
    "        weekday = 'saturday'   \n",
    "    elif week_num == 7:\n",
    "        weekday = 'sunday'  \n",
    "except ValueError as a:\n",
    "    print(a)\n",
    "finally:\n",
    "    print(weekday)\n",
    "        \n",
    "        "
   ]
  },
  {
   "cell_type": "code",
   "execution_count": null,
   "id": "68614a32",
   "metadata": {},
   "outputs": [],
   "source": []
  }
 ],
 "metadata": {
  "kernelspec": {
   "display_name": "Python 3 (ipykernel)",
   "language": "python",
   "name": "python3"
  },
  "language_info": {
   "codemirror_mode": {
    "name": "ipython",
    "version": 3
   },
   "file_extension": ".py",
   "mimetype": "text/x-python",
   "name": "python",
   "nbconvert_exporter": "python",
   "pygments_lexer": "ipython3",
   "version": "3.11.4"
  }
 },
 "nbformat": 4,
 "nbformat_minor": 5
}
