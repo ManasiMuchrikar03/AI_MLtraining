{
 "cells": [
  {
   "cell_type": "code",
   "execution_count": 8,
   "id": "f457bf86",
   "metadata": {},
   "outputs": [
    {
     "data": {
      "text/html": [
       "<div>\n",
       "<style scoped>\n",
       "    .dataframe tbody tr th:only-of-type {\n",
       "        vertical-align: middle;\n",
       "    }\n",
       "\n",
       "    .dataframe tbody tr th {\n",
       "        vertical-align: top;\n",
       "    }\n",
       "\n",
       "    .dataframe thead th {\n",
       "        text-align: right;\n",
       "    }\n",
       "</style>\n",
       "<table border=\"1\" class=\"dataframe\">\n",
       "  <thead>\n",
       "    <tr style=\"text-align: right;\">\n",
       "      <th></th>\n",
       "      <th>title</th>\n",
       "      <th>year</th>\n",
       "    </tr>\n",
       "  </thead>\n",
       "  <tbody>\n",
       "    <tr>\n",
       "      <th>0</th>\n",
       "      <td>Tasveer Mere Sanam</td>\n",
       "      <td>1996</td>\n",
       "    </tr>\n",
       "    <tr>\n",
       "      <th>1</th>\n",
       "      <td>Only You</td>\n",
       "      <td>1994</td>\n",
       "    </tr>\n",
       "    <tr>\n",
       "      <th>2</th>\n",
       "      <td>El pueblo del terror</td>\n",
       "      <td>1970</td>\n",
       "    </tr>\n",
       "    <tr>\n",
       "      <th>3</th>\n",
       "      <td>Machine</td>\n",
       "      <td>2007</td>\n",
       "    </tr>\n",
       "    <tr>\n",
       "      <th>4</th>\n",
       "      <td>MARy</td>\n",
       "      <td>2008</td>\n",
       "    </tr>\n",
       "  </tbody>\n",
       "</table>\n",
       "</div>"
      ],
      "text/plain": [
       "                  title  year\n",
       "0    Tasveer Mere Sanam  1996\n",
       "1              Only You  1994\n",
       "2  El pueblo del terror  1970\n",
       "3               Machine  2007\n",
       "4                  MARy  2008"
      ]
     },
     "execution_count": 8,
     "metadata": {},
     "output_type": "execute_result"
    }
   ],
   "source": [
    "%matplotlib inline\n",
    "import pandas as pd\n",
    "from IPython.core.display import HTML\n",
    "titles = pd.read_csv('downloads/titles.csv')\n",
    "titles.head()"
   ]
  },
  {
   "cell_type": "code",
   "execution_count": 10,
   "id": "96dd1ff0",
   "metadata": {},
   "outputs": [
    {
     "data": {
      "text/plain": [
       "(244914, 2)"
      ]
     },
     "execution_count": 10,
     "metadata": {},
     "output_type": "execute_result"
    }
   ],
   "source": [
    "#how many movies are listed in titles dataframe\n",
    "titles.shape"
   ]
  },
  {
   "cell_type": "code",
   "execution_count": 11,
   "id": "4264cc4e",
   "metadata": {},
   "outputs": [
    {
     "data": {
      "text/html": [
       "<div>\n",
       "<style scoped>\n",
       "    .dataframe tbody tr th:only-of-type {\n",
       "        vertical-align: middle;\n",
       "    }\n",
       "\n",
       "    .dataframe tbody tr th {\n",
       "        vertical-align: top;\n",
       "    }\n",
       "\n",
       "    .dataframe thead th {\n",
       "        text-align: right;\n",
       "    }\n",
       "</style>\n",
       "<table border=\"1\" class=\"dataframe\">\n",
       "  <thead>\n",
       "    <tr style=\"text-align: right;\">\n",
       "      <th></th>\n",
       "      <th>title</th>\n",
       "      <th>year</th>\n",
       "    </tr>\n",
       "  </thead>\n",
       "  <tbody>\n",
       "    <tr>\n",
       "      <th>0</th>\n",
       "      <td>Tasveer Mere Sanam</td>\n",
       "      <td>1996</td>\n",
       "    </tr>\n",
       "    <tr>\n",
       "      <th>1</th>\n",
       "      <td>Only You</td>\n",
       "      <td>1994</td>\n",
       "    </tr>\n",
       "  </tbody>\n",
       "</table>\n",
       "</div>"
      ],
      "text/plain": [
       "                title  year\n",
       "0  Tasveer Mere Sanam  1996\n",
       "1            Only You  1994"
      ]
     },
     "execution_count": 11,
     "metadata": {},
     "output_type": "execute_result"
    }
   ],
   "source": [
    "#what are the earliest two films listed in titles dataframe\n",
    "titles.head(2)"
   ]
  },
  {
   "cell_type": "code",
   "execution_count": 21,
   "id": "f9799856",
   "metadata": {},
   "outputs": [
    {
     "name": "stdout",
     "output_type": "stream",
     "text": [
      "        year\n",
      "title       \n",
      "Hamlet  2017\n",
      "Hamlet  1921\n",
      "Hamlet  1913\n",
      "Hamlet  1910\n",
      "Hamlet  2000\n",
      "Hamlet  1969\n",
      "Hamlet  1987\n",
      "Hamlet  2016\n",
      "Hamlet  1948\n",
      "Hamlet  1973\n",
      "Hamlet  1976\n",
      "Hamlet  2015\n",
      "Hamlet  1964\n",
      "Hamlet  1954\n",
      "Hamlet  2011\n",
      "Hamlet  1996\n",
      "Hamlet  2009\n",
      "Hamlet  1990\n",
      "Hamlet  1911\n",
      "Hamlet  2014\n"
     ]
    }
   ],
   "source": [
    "#how many movies have the tittle \"hamlet\"\n",
    "%matplotlib inline\n",
    "import pandas as pd\n",
    "from IPython.core.display import HTML\n",
    "titles = pd.read_csv('downloads/titles.csv')\n",
    "titles=titles.set_index('title')\n",
    "film = titles.loc['Hamlet']\n",
    "print(film)"
   ]
  },
  {
   "cell_type": "code",
   "execution_count": 22,
   "id": "f1432c0b",
   "metadata": {},
   "outputs": [
    {
     "name": "stdout",
     "output_type": "stream",
     "text": [
      "year    1959\n",
      "Name: North by Northwest, dtype: int64\n"
     ]
    }
   ],
   "source": [
    "#how many movies are titled \n",
    "film = titles.loc['North by Northwest']\n",
    "print(film)"
   ]
  },
  {
   "cell_type": "code",
   "execution_count": 26,
   "id": "91f116e8",
   "metadata": {},
   "outputs": [
    {
     "data": {
      "text/html": [
       "<div>\n",
       "<style scoped>\n",
       "    .dataframe tbody tr th:only-of-type {\n",
       "        vertical-align: middle;\n",
       "    }\n",
       "\n",
       "    .dataframe tbody tr th {\n",
       "        vertical-align: top;\n",
       "    }\n",
       "\n",
       "    .dataframe thead th {\n",
       "        text-align: right;\n",
       "    }\n",
       "</style>\n",
       "<table border=\"1\" class=\"dataframe\">\n",
       "  <thead>\n",
       "    <tr style=\"text-align: right;\">\n",
       "      <th></th>\n",
       "      <th>year</th>\n",
       "    </tr>\n",
       "    <tr>\n",
       "      <th>title</th>\n",
       "      <th></th>\n",
       "    </tr>\n",
       "  </thead>\n",
       "  <tbody>\n",
       "    <tr>\n",
       "      <th>Hamlet</th>\n",
       "      <td>1910</td>\n",
       "    </tr>\n",
       "    <tr>\n",
       "      <th>Hamlet</th>\n",
       "      <td>1911</td>\n",
       "    </tr>\n",
       "    <tr>\n",
       "      <th>Hamlet</th>\n",
       "      <td>1913</td>\n",
       "    </tr>\n",
       "    <tr>\n",
       "      <th>Hamlet</th>\n",
       "      <td>1921</td>\n",
       "    </tr>\n",
       "    <tr>\n",
       "      <th>Hamlet</th>\n",
       "      <td>1948</td>\n",
       "    </tr>\n",
       "    <tr>\n",
       "      <th>Hamlet</th>\n",
       "      <td>1954</td>\n",
       "    </tr>\n",
       "    <tr>\n",
       "      <th>Hamlet</th>\n",
       "      <td>1964</td>\n",
       "    </tr>\n",
       "    <tr>\n",
       "      <th>Hamlet</th>\n",
       "      <td>1969</td>\n",
       "    </tr>\n",
       "    <tr>\n",
       "      <th>Hamlet</th>\n",
       "      <td>1973</td>\n",
       "    </tr>\n",
       "    <tr>\n",
       "      <th>Hamlet</th>\n",
       "      <td>1976</td>\n",
       "    </tr>\n",
       "    <tr>\n",
       "      <th>Hamlet</th>\n",
       "      <td>1987</td>\n",
       "    </tr>\n",
       "    <tr>\n",
       "      <th>Hamlet</th>\n",
       "      <td>1990</td>\n",
       "    </tr>\n",
       "    <tr>\n",
       "      <th>Hamlet</th>\n",
       "      <td>1996</td>\n",
       "    </tr>\n",
       "    <tr>\n",
       "      <th>Hamlet</th>\n",
       "      <td>2000</td>\n",
       "    </tr>\n",
       "    <tr>\n",
       "      <th>Hamlet</th>\n",
       "      <td>2009</td>\n",
       "    </tr>\n",
       "    <tr>\n",
       "      <th>Hamlet</th>\n",
       "      <td>2011</td>\n",
       "    </tr>\n",
       "    <tr>\n",
       "      <th>Hamlet</th>\n",
       "      <td>2014</td>\n",
       "    </tr>\n",
       "    <tr>\n",
       "      <th>Hamlet</th>\n",
       "      <td>2015</td>\n",
       "    </tr>\n",
       "    <tr>\n",
       "      <th>Hamlet</th>\n",
       "      <td>2016</td>\n",
       "    </tr>\n",
       "    <tr>\n",
       "      <th>Hamlet</th>\n",
       "      <td>2017</td>\n",
       "    </tr>\n",
       "  </tbody>\n",
       "</table>\n",
       "</div>"
      ],
      "text/plain": [
       "        year\n",
       "title       \n",
       "Hamlet  1910\n",
       "Hamlet  1911\n",
       "Hamlet  1913\n",
       "Hamlet  1921\n",
       "Hamlet  1948\n",
       "Hamlet  1954\n",
       "Hamlet  1964\n",
       "Hamlet  1969\n",
       "Hamlet  1973\n",
       "Hamlet  1976\n",
       "Hamlet  1987\n",
       "Hamlet  1990\n",
       "Hamlet  1996\n",
       "Hamlet  2000\n",
       "Hamlet  2009\n",
       "Hamlet  2011\n",
       "Hamlet  2014\n",
       "Hamlet  2015\n",
       "Hamlet  2016\n",
       "Hamlet  2017"
      ]
     },
     "execution_count": 26,
     "metadata": {},
     "output_type": "execute_result"
    }
   ],
   "source": [
    "#when was the first movie named 'hamlet' made\n",
    "film = titles.loc['Hamlet']\n",
    "film.sort_values(by=['year'])"
   ]
  },
  {
   "cell_type": "code",
   "execution_count": 31,
   "id": "701f4af3",
   "metadata": {},
   "outputs": [
    {
     "name": "stdout",
     "output_type": "stream",
     "text": [
      "                         year\n",
      "title                        \n",
      "La soif des hommes       1950\n",
      "Sohrab at Rustum         1950\n",
      "Gemma                    1950\n",
      "Rasuna valea             1950\n",
      "Trial Without Jury       1950\n",
      "...                       ...\n",
      "Inmaculada               1950\n",
      "Golden Salamander        1950\n",
      "Prisoners in Petticoats  1950\n",
      "The Golden Gloves Story  1950\n",
      "Doctor X                 1950\n",
      "\n",
      "[1113 rows x 1 columns]\n"
     ]
    }
   ],
   "source": [
    "#how many movies were made in year 1950\n",
    "film = titles[titles['year'] == 1950]\n",
    "print(film)"
   ]
  },
  {
   "cell_type": "code",
   "execution_count": 32,
   "id": "b739bc3a",
   "metadata": {},
   "outputs": [
    {
     "name": "stdout",
     "output_type": "stream",
     "text": [
      "                                  year\n",
      "title                                 \n",
      "Tayna Dimki Karmiya               1960\n",
      "Tres angelitos negros             1960\n",
      "Viuda de oro                      1960\n",
      "Tao se feng yun                   1960\n",
      "Mahallenin sevgilisi              1960\n",
      "...                                ...\n",
      "Trouble with Eve                  1960\n",
      "Makrykostaioi kai Kondogiorgides  1960\n",
      "Tall Story                        1960\n",
      "Telegrame                         1960\n",
      "Me importa poco                   1960\n",
      "\n",
      "[1549 rows x 1 columns]\n"
     ]
    }
   ],
   "source": [
    "#how many movies were made in year 1960\n",
    "film = titles[titles['year'] == 1960]\n",
    "print(film)"
   ]
  },
  {
   "cell_type": "code",
   "execution_count": 35,
   "id": "c00a8324",
   "metadata": {},
   "outputs": [
    {
     "name": "stdout",
     "output_type": "stream",
     "text": [
      "        year\n",
      "title       \n",
      "Batman  1943\n",
      "Batman  1989\n"
     ]
    }
   ],
   "source": [
    "#in what year movie titled batman was released \n",
    "%matplotlib inline\n",
    "import pandas as pd\n",
    "from IPython.core.display import HTML\n",
    "titles = pd.read_csv('downloads/titles.csv')\n",
    "titles=titles.set_index('title')\n",
    "film = titles.loc['Batman']\n",
    "print(film)"
   ]
  },
  {
   "cell_type": "code",
   "execution_count": 37,
   "id": "56434a9a",
   "metadata": {},
   "outputs": [
    {
     "data": {
      "text/html": [
       "<div>\n",
       "<style scoped>\n",
       "    .dataframe tbody tr th:only-of-type {\n",
       "        vertical-align: middle;\n",
       "    }\n",
       "\n",
       "    .dataframe tbody tr th {\n",
       "        vertical-align: top;\n",
       "    }\n",
       "\n",
       "    .dataframe thead th {\n",
       "        text-align: right;\n",
       "    }\n",
       "</style>\n",
       "<table border=\"1\" class=\"dataframe\">\n",
       "  <thead>\n",
       "    <tr style=\"text-align: right;\">\n",
       "      <th></th>\n",
       "      <th>title</th>\n",
       "      <th>year</th>\n",
       "      <th>name</th>\n",
       "      <th>type</th>\n",
       "      <th>character</th>\n",
       "      <th>n</th>\n",
       "    </tr>\n",
       "  </thead>\n",
       "  <tbody>\n",
       "    <tr>\n",
       "      <th>0</th>\n",
       "      <td>Closet Monster</td>\n",
       "      <td>2015</td>\n",
       "      <td>Buffy #1</td>\n",
       "      <td>actor</td>\n",
       "      <td>Buffy 4</td>\n",
       "      <td>31.0</td>\n",
       "    </tr>\n",
       "    <tr>\n",
       "      <th>1</th>\n",
       "      <td>Suuri illusioni</td>\n",
       "      <td>1985</td>\n",
       "      <td>Homo $</td>\n",
       "      <td>actor</td>\n",
       "      <td>Guests</td>\n",
       "      <td>22.0</td>\n",
       "    </tr>\n",
       "    <tr>\n",
       "      <th>2</th>\n",
       "      <td>Battle of the Sexes</td>\n",
       "      <td>2017</td>\n",
       "      <td>$hutter</td>\n",
       "      <td>actor</td>\n",
       "      <td>Bobby Riggs Fan</td>\n",
       "      <td>10.0</td>\n",
       "    </tr>\n",
       "    <tr>\n",
       "      <th>3</th>\n",
       "      <td>Secret in Their Eyes</td>\n",
       "      <td>2015</td>\n",
       "      <td>$hutter</td>\n",
       "      <td>actor</td>\n",
       "      <td>2002 Dodger Fan</td>\n",
       "      <td>NaN</td>\n",
       "    </tr>\n",
       "    <tr>\n",
       "      <th>4</th>\n",
       "      <td>Steve Jobs</td>\n",
       "      <td>2015</td>\n",
       "      <td>$hutter</td>\n",
       "      <td>actor</td>\n",
       "      <td>1988 Opera House Patron</td>\n",
       "      <td>NaN</td>\n",
       "    </tr>\n",
       "  </tbody>\n",
       "</table>\n",
       "</div>"
      ],
      "text/plain": [
       "                  title  year      name   type                character     n\n",
       "0        Closet Monster  2015  Buffy #1  actor                  Buffy 4  31.0\n",
       "1       Suuri illusioni  1985    Homo $  actor                   Guests  22.0\n",
       "2   Battle of the Sexes  2017   $hutter  actor          Bobby Riggs Fan  10.0\n",
       "3  Secret in Their Eyes  2015   $hutter  actor          2002 Dodger Fan   NaN\n",
       "4            Steve Jobs  2015   $hutter  actor  1988 Opera House Patron   NaN"
      ]
     },
     "execution_count": 37,
     "metadata": {},
     "output_type": "execute_result"
    }
   ],
   "source": [
    "%matplotlib inline\n",
    "import pandas as pd\n",
    "from IPython.core.display import HTML\n",
    "cast = pd.read_csv('downloads/cast.csv')\n",
    "cast = cast.set_index('type')\n",
    "cast.head()"
   ]
  },
  {
   "cell_type": "code",
   "execution_count": 43,
   "id": "b896ccb2",
   "metadata": {},
   "outputs": [
    {
     "name": "stdout",
     "output_type": "stream",
     "text": [
      "                                                  title  year  \\\n",
      "type                                                            \n",
      "actress                             Night of the Demons  2009   \n",
      "actress  The Bad Lieutenant: Port of Call - New Orleans  2009   \n",
      "actress  The Bad Lieutenant: Port of Call - New Orleans  2009   \n",
      "actress                          A Woman of Distinction  1950   \n",
      "actress                                Around the World  1943   \n",
      "...                                                 ...   ...   \n",
      "actress                                         Foxtrot  1988   \n",
      "actress                Niceland (Population. 1.000.002)  2004   \n",
      "actress                                       Skammdegi  1985   \n",
      "actress                                    U.S.S.S.S...  2003   \n",
      "actress                               Bye Bye Blue Bird  1999   \n",
      "\n",
      "                                   name               character     n  \n",
      "type                                                                   \n",
      "actress  Stefanie Oxmann Mcgaha \"Steff\"              Goth raver   NaN  \n",
      "actress  Stefanie Oxmann Mcgaha \"Steff\"                 Gambler   NaN  \n",
      "actress  Stefanie Oxmann Mcgaha \"Steff\"              Bar patron   NaN  \n",
      "actress               Lucienne & Ashour          Apache Dancers   NaN  \n",
      "actress               Lucienne & Ashour          Apache Dancers   NaN  \n",
      "...                                 ...                     ...   ...  \n",
      "actress               Lilja ??risd?ttir                    D?ra  24.0  \n",
      "actress       Sigr??ur J?na ??risd?ttir            Woman in Bus  26.0  \n",
      "actress              Dalla ??r?ard?ttir           Hj?krunarkona   9.0  \n",
      "actress     Krist?n Andrea ??r?ard?ttir  Afgr.dama ? bens?nst??  17.0  \n",
      "actress                    Rosa ? R?gvu       Pensionatv?rtinde   NaN  \n",
      "\n",
      "[1253495 rows x 5 columns]\n"
     ]
    }
   ],
   "source": [
    "#how many roles were available for actresses\n",
    "%matplotlib inline\n",
    "import pandas as pd\n",
    "cast = pd.read_csv('downloads/cast.csv')\n",
    "cast = cast.set_index('type')\n",
    "actress = cast.loc['actress']\n",
    "print(actress)"
   ]
  },
  {
   "cell_type": "code",
   "execution_count": 45,
   "id": "02f0fd77",
   "metadata": {},
   "outputs": [
    {
     "data": {
      "text/html": [
       "<div>\n",
       "<style scoped>\n",
       "    .dataframe tbody tr th:only-of-type {\n",
       "        vertical-align: middle;\n",
       "    }\n",
       "\n",
       "    .dataframe tbody tr th {\n",
       "        vertical-align: top;\n",
       "    }\n",
       "\n",
       "    .dataframe thead th {\n",
       "        text-align: right;\n",
       "    }\n",
       "</style>\n",
       "<table border=\"1\" class=\"dataframe\">\n",
       "  <thead>\n",
       "    <tr style=\"text-align: right;\">\n",
       "      <th></th>\n",
       "      <th>title</th>\n",
       "      <th>year</th>\n",
       "      <th>name</th>\n",
       "      <th>character</th>\n",
       "      <th>n</th>\n",
       "    </tr>\n",
       "    <tr>\n",
       "      <th>type</th>\n",
       "      <th></th>\n",
       "      <th></th>\n",
       "      <th></th>\n",
       "      <th></th>\n",
       "      <th></th>\n",
       "    </tr>\n",
       "  </thead>\n",
       "  <tbody>\n",
       "    <tr>\n",
       "      <th>actor</th>\n",
       "      <td>Palletoori Pilla</td>\n",
       "      <td>1950</td>\n",
       "      <td>Subba Rao A.V.</td>\n",
       "      <td>Kampanna Dora</td>\n",
       "      <td>4.0</td>\n",
       "    </tr>\n",
       "    <tr>\n",
       "      <th>actor</th>\n",
       "      <td>Hallin Janne</td>\n",
       "      <td>1950</td>\n",
       "      <td>Kosti Aaltonen</td>\n",
       "      <td>Rosvo</td>\n",
       "      <td>NaN</td>\n",
       "    </tr>\n",
       "    <tr>\n",
       "      <th>actor</th>\n",
       "      <td>Hallin Janne</td>\n",
       "      <td>1950</td>\n",
       "      <td>Kosti Aaltonen</td>\n",
       "      <td>Vartija</td>\n",
       "      <td>NaN</td>\n",
       "    </tr>\n",
       "    <tr>\n",
       "      <th>actor</th>\n",
       "      <td>Bomba and the Hidden City</td>\n",
       "      <td>1950</td>\n",
       "      <td>Abdullah Abbas</td>\n",
       "      <td>Villager</td>\n",
       "      <td>NaN</td>\n",
       "    </tr>\n",
       "    <tr>\n",
       "      <th>actor</th>\n",
       "      <td>Fortunes of Captain Blood</td>\n",
       "      <td>1950</td>\n",
       "      <td>Abdullah Abbas</td>\n",
       "      <td>Crew Member</td>\n",
       "      <td>NaN</td>\n",
       "    </tr>\n",
       "    <tr>\n",
       "      <th>...</th>\n",
       "      <td>...</td>\n",
       "      <td>...</td>\n",
       "      <td>...</td>\n",
       "      <td>...</td>\n",
       "      <td>...</td>\n",
       "    </tr>\n",
       "    <tr>\n",
       "      <th>actress</th>\n",
       "      <td>Quinto patio</td>\n",
       "      <td>1950</td>\n",
       "      <td>Dalia ??iguez</td>\n",
       "      <td>Do?a Blanquita Z??iga de Vallarta</td>\n",
       "      <td>5.0</td>\n",
       "    </tr>\n",
       "    <tr>\n",
       "      <th>actress</th>\n",
       "      <td>Fukkatsu</td>\n",
       "      <td>1950</td>\n",
       "      <td>Chiharu ?tomo</td>\n",
       "      <td>Nagisa Fujioka</td>\n",
       "      <td>5.0</td>\n",
       "    </tr>\n",
       "    <tr>\n",
       "      <th>actress</th>\n",
       "      <td>Harukanari haha no kuni</td>\n",
       "      <td>1950</td>\n",
       "      <td>Chiharu ?tomo</td>\n",
       "      <td>May Takebayashi</td>\n",
       "      <td>NaN</td>\n",
       "    </tr>\n",
       "    <tr>\n",
       "      <th>actress</th>\n",
       "      <td>Anderssonskans Kalle</td>\n",
       "      <td>1950</td>\n",
       "      <td>Ingrid ?stergren</td>\n",
       "      <td>Summer Camp Manager</td>\n",
       "      <td>NaN</td>\n",
       "    </tr>\n",
       "    <tr>\n",
       "      <th>actress</th>\n",
       "      <td>Akdeniz korsanlari</td>\n",
       "      <td>1950</td>\n",
       "      <td>Muazzez ?lkerer</td>\n",
       "      <td>Maria</td>\n",
       "      <td>2.0</td>\n",
       "    </tr>\n",
       "  </tbody>\n",
       "</table>\n",
       "<p>22397 rows × 5 columns</p>\n",
       "</div>"
      ],
      "text/plain": [
       "                             title  year              name  \\\n",
       "type                                                         \n",
       "actor             Palletoori Pilla  1950    Subba Rao A.V.   \n",
       "actor                 Hallin Janne  1950    Kosti Aaltonen   \n",
       "actor                 Hallin Janne  1950    Kosti Aaltonen   \n",
       "actor    Bomba and the Hidden City  1950    Abdullah Abbas   \n",
       "actor    Fortunes of Captain Blood  1950    Abdullah Abbas   \n",
       "...                            ...   ...               ...   \n",
       "actress               Quinto patio  1950     Dalia ??iguez   \n",
       "actress                   Fukkatsu  1950     Chiharu ?tomo   \n",
       "actress    Harukanari haha no kuni  1950     Chiharu ?tomo   \n",
       "actress       Anderssonskans Kalle  1950  Ingrid ?stergren   \n",
       "actress         Akdeniz korsanlari  1950   Muazzez ?lkerer   \n",
       "\n",
       "                                 character    n  \n",
       "type                                             \n",
       "actor                        Kampanna Dora  4.0  \n",
       "actor                                Rosvo  NaN  \n",
       "actor                              Vartija  NaN  \n",
       "actor                             Villager  NaN  \n",
       "actor                          Crew Member  NaN  \n",
       "...                                    ...  ...  \n",
       "actress  Do?a Blanquita Z??iga de Vallarta  5.0  \n",
       "actress                     Nagisa Fujioka  5.0  \n",
       "actress                    May Takebayashi  NaN  \n",
       "actress                Summer Camp Manager  NaN  \n",
       "actress                              Maria  2.0  \n",
       "\n",
       "[22397 rows x 5 columns]"
      ]
     },
     "execution_count": 45,
     "metadata": {},
     "output_type": "execute_result"
    }
   ],
   "source": [
    "#how many roles were available for actrsses \n",
    "actress =  cast[cast['year'] == 1950]\n",
    "actress"
   ]
  },
  {
   "cell_type": "code",
   "execution_count": 47,
   "id": "529a5571",
   "metadata": {},
   "outputs": [
    {
     "name": "stdout",
     "output_type": "stream",
     "text": [
      "                             title  year              name  \\\n",
      "type                                                         \n",
      "actor             Palletoori Pilla  1950    Subba Rao A.V.   \n",
      "actor                 Hallin Janne  1950    Kosti Aaltonen   \n",
      "actor                 Hallin Janne  1950    Kosti Aaltonen   \n",
      "actor    Bomba and the Hidden City  1950    Abdullah Abbas   \n",
      "actor    Fortunes of Captain Blood  1950    Abdullah Abbas   \n",
      "...                            ...   ...               ...   \n",
      "actress               Quinto patio  1950     Dalia ??iguez   \n",
      "actress                   Fukkatsu  1950     Chiharu ?tomo   \n",
      "actress    Harukanari haha no kuni  1950     Chiharu ?tomo   \n",
      "actress       Anderssonskans Kalle  1950  Ingrid ?stergren   \n",
      "actress         Akdeniz korsanlari  1950   Muazzez ?lkerer   \n",
      "\n",
      "                                 character    n  \n",
      "type                                             \n",
      "actor                        Kampanna Dora  4.0  \n",
      "actor                                Rosvo  NaN  \n",
      "actor                              Vartija  NaN  \n",
      "actor                             Villager  NaN  \n",
      "actor                          Crew Member  NaN  \n",
      "...                                    ...  ...  \n",
      "actress  Do?a Blanquita Z??iga de Vallarta  5.0  \n",
      "actress                     Nagisa Fujioka  5.0  \n",
      "actress                    May Takebayashi  NaN  \n",
      "actress                Summer Camp Manager  NaN  \n",
      "actress                              Maria  2.0  \n",
      "\n",
      "[22397 rows x 5 columns]\n"
     ]
    }
   ],
   "source": [
    "#how many roles were available for actors in year 1950\n",
    "actor = cast.loc['actor']\n",
    "actor = cast[cast['year'] == 1950]\n",
    "print(actor)"
   ]
  },
  {
   "cell_type": "code",
   "execution_count": 50,
   "id": "0f04a79c",
   "metadata": {},
   "outputs": [
    {
     "name": "stdout",
     "output_type": "stream",
     "text": [
      "                                                    title  year  \\\n",
      "type                                                              \n",
      "actor                       Cheech and Chong's Next Movie  1980   \n",
      "actor                                        Aurinkotuuli  1980   \n",
      "actor    Bob Hope's All-Star Look at TV's Prime Time Wars  1980   \n",
      "actor                                         Raging Bull  1980   \n",
      "actor                                    Arrivano i gatti  1980   \n",
      "...                                                   ...   ...   \n",
      "actress                                  Tsigoineruwaizen  1980   \n",
      "actress                                             Akrep  1980   \n",
      "actress                                      Gerzek Saban  1980   \n",
      "actress                                Kizi da anasi gibi  1980   \n",
      "actress                                       Banker Bilo  1980   \n",
      "\n",
      "                      name        character     n  \n",
      "type                                               \n",
      "actor             Bobby A.          Doorman  33.0  \n",
      "actor       Jouko Aaltonen   Man on lecture  12.0  \n",
      "actor         Willie Aames          Himself   NaN  \n",
      "actor            Bob Aaron  Prison Guard #1  86.0  \n",
      "actor    Diego Abatantuono           Felice  10.0  \n",
      "...                    ...              ...   ...  \n",
      "actress        Naoko ?tani            O-Ine   2.0  \n",
      "actress        Ayfer ?zcan            Nevin   2.0  \n",
      "actress          ?lk? ?zen             Lale   2.0  \n",
      "actress       G?ler ?zonuk  Suna'nin Annesi   NaN  \n",
      "actress       Nermin ?zses           Hatice   NaN  \n",
      "\n",
      "[23472 rows x 5 columns]\n",
      "                             title  year              name  \\\n",
      "type                                                         \n",
      "actor             Palletoori Pilla  1950    Subba Rao A.V.   \n",
      "actor                 Hallin Janne  1950    Kosti Aaltonen   \n",
      "actor                 Hallin Janne  1950    Kosti Aaltonen   \n",
      "actor    Bomba and the Hidden City  1950    Abdullah Abbas   \n",
      "actor    Fortunes of Captain Blood  1950    Abdullah Abbas   \n",
      "...                            ...   ...               ...   \n",
      "actress               Quinto patio  1950     Dalia ??iguez   \n",
      "actress                   Fukkatsu  1950     Chiharu ?tomo   \n",
      "actress    Harukanari haha no kuni  1950     Chiharu ?tomo   \n",
      "actress       Anderssonskans Kalle  1950  Ingrid ?stergren   \n",
      "actress         Akdeniz korsanlari  1950   Muazzez ?lkerer   \n",
      "\n",
      "                                 character    n  \n",
      "type                                             \n",
      "actor                        Kampanna Dora  4.0  \n",
      "actor                                Rosvo  NaN  \n",
      "actor                              Vartija  NaN  \n",
      "actor                             Villager  NaN  \n",
      "actor                          Crew Member  NaN  \n",
      "...                                    ...  ...  \n",
      "actress  Do?a Blanquita Z??iga de Vallarta  5.0  \n",
      "actress                     Nagisa Fujioka  5.0  \n",
      "actress                    May Takebayashi  NaN  \n",
      "actress                Summer Camp Manager  NaN  \n",
      "actress                              Maria  2.0  \n",
      "\n",
      "[22397 rows x 5 columns]\n"
     ]
    }
   ],
   "source": [
    "#how many roles were available from begening of film history through 1\n",
    "actor = cast[cast['year'] == 1980]\n",
    "actress =  cast[cast['year'] == 1950]\n",
    "print(actor)\n",
    "print(actress)"
   ]
  },
  {
   "cell_type": "code",
   "execution_count": 51,
   "id": "45ff490c",
   "metadata": {},
   "outputs": [
    {
     "name": "stdout",
     "output_type": "stream",
     "text": [
      "                            title  year   type            character     n\n",
      "name                                                                     \n",
      "Cary Grant    Alice in Wonderland  1933  actor          Mock Turtle  10.0\n",
      "Cary Grant  An Affair to Remember  1957  actor      Nickie Ferrante   1.0\n",
      "Cary Grant   Arsenic and Old Lace  1944  actor    Mortimer Brewster   1.0\n",
      "Cary Grant         Big Brown Eyes  1936  actor           Danny Barr   1.0\n",
      "Cary Grant           Blonde Venus  1932  actor        Nick Townsend   3.0\n",
      "...                           ...   ...    ...                  ...   ...\n",
      "Cary Grant         Walk Don't Run  1966  actor  Sir William Rutland   1.0\n",
      "Cary Grant        Wedding Present  1936  actor        Charlie Mason   2.0\n",
      "Cary Grant    When You're in Love  1937  actor         Jimmy Hudson   2.0\n",
      "Cary Grant      Wings in the Dark  1935  actor           Ken Gordon   2.0\n",
      "Cary Grant   Without Reservations  1946  actor           Cary Grant   NaN\n",
      "\n",
      "[79 rows x 5 columns]\n"
     ]
    }
   ],
   "source": [
    "%matplotlib inline\n",
    "import pandas as pd\n",
    "from IPython.core.display import HTML\n",
    "cast = pd.read_csv('downloads/cast.csv')\n",
    "cast = cast.set_index('name')\n",
    "actor = cast.loc['Cary Grant']\n",
    "print(actor)"
   ]
  },
  {
   "cell_type": "code",
   "execution_count": 52,
   "id": "f9080d3c",
   "metadata": {},
   "outputs": [
    {
     "name": "stdout",
     "output_type": "stream",
     "text": [
      "                                                  title  year     type  \\\n",
      "name                                                                     \n",
      "Judi Dench                        84 Charing Cross Road  1987  actress   \n",
      "Judi Dench                            A Handful of Dust  1988  actress   \n",
      "Judi Dench                    A Midsummer Night's Dream  1968  actress   \n",
      "Judi Dench                           A Room with a View  1985  actress   \n",
      "Judi Dench                            A Study in Terror  1965  actress   \n",
      "Judi Dench       Angelina Ballerina: Angelina Sets Sail  2006  actress   \n",
      "Judi Dench      Branagh Theatre Live: The Winter's Tale  2015  actress   \n",
      "Judi Dench                                Casino Royale  2006  actress   \n",
      "Judi Dench                                     Chocolat  2000  actress   \n",
      "Judi Dench                                    Dead Cert  1974  actress   \n",
      "Judi Dench                              Die Another Day  2002  actress   \n",
      "Judi Dench                                       Doogal  2006  actress   \n",
      "Judi Dench                          Four in the Morning  1965  actress   \n",
      "Judi Dench                                    GoldenEye  1995  actress   \n",
      "Judi Dench                                       Hamlet  1996  actress   \n",
      "Judi Dench                         He Who Rides a Tiger  1965  actress   \n",
      "Judi Dench                                      Henry V  1989  actress   \n",
      "Judi Dench                            Home on the Range  2004  actress   \n",
      "Judi Dench                                         Iris  2001  actress   \n",
      "Judi Dench                                     J. Edgar  2011  actress   \n",
      "Judi Dench                                 Jack & Sarah  1995  actress   \n",
      "Judi Dench                                    Jane Eyre  2011  actress   \n",
      "Judi Dench                           Ladies in Lavender  2004  actress   \n",
      "Judi Dench                                       Luther  1974  actress   \n",
      "Judi Dench  Miss Peregrine's Home for Peculiar Children  2016  actress   \n",
      "Judi Dench                                    Mrs Brown  1997  actress   \n",
      "Judi Dench                       Mrs Henderson Presents  2005  actress   \n",
      "Judi Dench                 Murder on the Orient Express  2017  actress   \n",
      "Judi Dench                         My Week with Marilyn  2011  actress   \n",
      "Judi Dench                                         Nine  2009  actress   \n",
      "Judi Dench                           Notes on a Scandal  2006  actress   \n",
      "Judi Dench                                    Philomena  2013  actress   \n",
      "Judi Dench  Pirates of the Caribbean: On Stranger Tides  2011  actress   \n",
      "Judi Dench                            Pride & Prejudice  2005  actress   \n",
      "Judi Dench                            Quantum of Solace  2008  actress   \n",
      "Judi Dench                                         Rage  2009  actress   \n",
      "Judi Dench                                     Red Joan  2018  actress   \n",
      "Judi Dench                            Run for Your Wife  2012  actress   \n",
      "Judi Dench                          Shakespeare in Love  1998  actress   \n",
      "Judi Dench                                      Skyfall  2012  actress   \n",
      "Judi Dench                                      Spectre  2015  actress   \n",
      "Judi Dench                              Stars in Shorts  2012  actress   \n",
      "Judi Dench                           Tea with Mussolini  1999  actress   \n",
      "Judi Dench                     The Angelic Conversation  1985  actress   \n",
      "Judi Dench               The Best Exotic Marigold Hotel  2011  actress   \n",
      "Judi Dench                    The Chronicles of Riddick  2004  actress   \n",
      "Judi Dench              The Importance of Being Earnest  2002  actress   \n",
      "Judi Dench        The Second Best Exotic Marigold Hotel  2015  actress   \n",
      "Judi Dench                            The Shipping News  2001  actress   \n",
      "Judi Dench                             The Third Secret  1964  actress   \n",
      "Judi Dench                      The World Is Not Enough  1999  actress   \n",
      "Judi Dench                          Tomorrow Never Dies  1997  actress   \n",
      "Judi Dench                                  Tulip Fever  2017  actress   \n",
      "Judi Dench                             Victoria & Abdul  2017  actress   \n",
      "Judi Dench                                     Wetherby  1985  actress   \n",
      "\n",
      "                                character     n  \n",
      "name                                             \n",
      "Judi Dench                      Nora Doel   3.0  \n",
      "Judi Dench                    Mrs. Beaver  13.0  \n",
      "Judi Dench                        Titania  16.0  \n",
      "Judi Dench     Eleanor Lavish, a novelist   7.0  \n",
      "Judi Dench                          Sally   8.0  \n",
      "Judi Dench                     Miss Lilly   2.0  \n",
      "Judi Dench                        Paulina   NaN  \n",
      "Judi Dench                              M   4.0  \n",
      "Judi Dench                 Armande Voizin  18.0  \n",
      "Judi Dench                 Laura Davidson   2.0  \n",
      "Judi Dench                              M   6.0  \n",
      "Judi Dench                       Narrator   7.0  \n",
      "Judi Dench                           Wife   2.0  \n",
      "Judi Dench                              M   6.0  \n",
      "Judi Dench                         Hecuba  12.0  \n",
      "Judi Dench                         Joanne   2.0  \n",
      "Judi Dench          Mistress Nell Quickly  26.0  \n",
      "Judi Dench                   Mrs. Caloway   7.0  \n",
      "Judi Dench                   Iris Murdoch   3.0  \n",
      "Judi Dench                   Annie Hoover  13.0  \n",
      "Judi Dench                       Margaret   3.0  \n",
      "Judi Dench                   Mrs. Fairfax  18.0  \n",
      "Judi Dench                         Ursula   1.0  \n",
      "Judi Dench                      Katherine   7.0  \n",
      "Judi Dench                    Miss Avocet   4.0  \n",
      "Judi Dench                 Queen Victoria   1.0  \n",
      "Judi Dench           Mrs. Laura Henderson   1.0  \n",
      "Judi Dench           Princess Dragomiroff  39.0  \n",
      "Judi Dench           Dame Sybil Thorndike  23.0  \n",
      "Judi Dench                          Lilli   6.0  \n",
      "Judi Dench                 Barbara Covett   1.0  \n",
      "Judi Dench                      Philomena   1.0  \n",
      "Judi Dench                   Society Lady  16.0  \n",
      "Judi Dench       Lady Catherine de Bourgh  20.0  \n",
      "Judi Dench                              M   4.0  \n",
      "Judi Dench                   Mona Carvell   NaN  \n",
      "Judi Dench                  Joan Stantley   NaN  \n",
      "Judi Dench                       Bag Lady  40.0  \n",
      "Judi Dench                Queen Elizabeth  12.0  \n",
      "Judi Dench                              M   2.0  \n",
      "Judi Dench                              M   NaN  \n",
      "Judi Dench                           Mary  29.0  \n",
      "Judi Dench                       Arabella   2.0  \n",
      "Judi Dench  Shakespeare's Sonnets read by   3.0  \n",
      "Judi Dench              Evelyn Greenslade   1.0  \n",
      "Judi Dench                         Aereon   4.0  \n",
      "Judi Dench                 Lady Bracknell   5.0  \n",
      "Judi Dench              Evelyn Greenslade   5.0  \n",
      "Judi Dench                     Agnis Hamm   3.0  \n",
      "Judi Dench                 Miss Humphries  12.0  \n",
      "Judi Dench                              M   6.0  \n",
      "Judi Dench                              M   9.0  \n",
      "Judi Dench                         Abbess  11.0  \n",
      "Judi Dench                 Queen Victoria   1.0  \n",
      "Judi Dench              Marcia Pilborough   3.0  \n"
     ]
    }
   ],
   "source": [
    "#how many roleshas Judi Dench played\n",
    "actor = cast.loc['Judi Dench']\n",
    "print(actor)"
   ]
  },
  {
   "cell_type": "code",
   "execution_count": 53,
   "id": "a9147b51",
   "metadata": {},
   "outputs": [
    {
     "name": "stdout",
     "output_type": "stream",
     "text": [
      "                                                  title  year     type  \\\n",
      "name                                                                     \n",
      "Judi Dench                        84 Charing Cross Road  1987  actress   \n",
      "Judi Dench                            A Handful of Dust  1988  actress   \n",
      "Judi Dench                    A Midsummer Night's Dream  1968  actress   \n",
      "Judi Dench                           A Room with a View  1985  actress   \n",
      "Judi Dench                            A Study in Terror  1965  actress   \n",
      "Judi Dench       Angelina Ballerina: Angelina Sets Sail  2006  actress   \n",
      "Judi Dench      Branagh Theatre Live: The Winter's Tale  2015  actress   \n",
      "Judi Dench                                Casino Royale  2006  actress   \n",
      "Judi Dench                                     Chocolat  2000  actress   \n",
      "Judi Dench                                    Dead Cert  1974  actress   \n",
      "Judi Dench                              Die Another Day  2002  actress   \n",
      "Judi Dench                                       Doogal  2006  actress   \n",
      "Judi Dench                          Four in the Morning  1965  actress   \n",
      "Judi Dench                                    GoldenEye  1995  actress   \n",
      "Judi Dench                                       Hamlet  1996  actress   \n",
      "Judi Dench                         He Who Rides a Tiger  1965  actress   \n",
      "Judi Dench                                      Henry V  1989  actress   \n",
      "Judi Dench                            Home on the Range  2004  actress   \n",
      "Judi Dench                                         Iris  2001  actress   \n",
      "Judi Dench                                     J. Edgar  2011  actress   \n",
      "Judi Dench                                 Jack & Sarah  1995  actress   \n",
      "Judi Dench                                    Jane Eyre  2011  actress   \n",
      "Judi Dench                           Ladies in Lavender  2004  actress   \n",
      "Judi Dench                                       Luther  1974  actress   \n",
      "Judi Dench  Miss Peregrine's Home for Peculiar Children  2016  actress   \n",
      "Judi Dench                                    Mrs Brown  1997  actress   \n",
      "Judi Dench                       Mrs Henderson Presents  2005  actress   \n",
      "Judi Dench                 Murder on the Orient Express  2017  actress   \n",
      "Judi Dench                         My Week with Marilyn  2011  actress   \n",
      "Judi Dench                                         Nine  2009  actress   \n",
      "Judi Dench                           Notes on a Scandal  2006  actress   \n",
      "Judi Dench                                    Philomena  2013  actress   \n",
      "Judi Dench  Pirates of the Caribbean: On Stranger Tides  2011  actress   \n",
      "Judi Dench                            Pride & Prejudice  2005  actress   \n",
      "Judi Dench                            Quantum of Solace  2008  actress   \n",
      "Judi Dench                                         Rage  2009  actress   \n",
      "Judi Dench                                     Red Joan  2018  actress   \n",
      "Judi Dench                            Run for Your Wife  2012  actress   \n",
      "Judi Dench                          Shakespeare in Love  1998  actress   \n",
      "Judi Dench                                      Skyfall  2012  actress   \n",
      "Judi Dench                                      Spectre  2015  actress   \n",
      "Judi Dench                              Stars in Shorts  2012  actress   \n",
      "Judi Dench                           Tea with Mussolini  1999  actress   \n",
      "Judi Dench                     The Angelic Conversation  1985  actress   \n",
      "Judi Dench               The Best Exotic Marigold Hotel  2011  actress   \n",
      "Judi Dench                    The Chronicles of Riddick  2004  actress   \n",
      "Judi Dench              The Importance of Being Earnest  2002  actress   \n",
      "Judi Dench        The Second Best Exotic Marigold Hotel  2015  actress   \n",
      "Judi Dench                            The Shipping News  2001  actress   \n",
      "Judi Dench                             The Third Secret  1964  actress   \n",
      "Judi Dench                      The World Is Not Enough  1999  actress   \n",
      "Judi Dench                          Tomorrow Never Dies  1997  actress   \n",
      "Judi Dench                                  Tulip Fever  2017  actress   \n",
      "Judi Dench                             Victoria & Abdul  2017  actress   \n",
      "Judi Dench                                     Wetherby  1985  actress   \n",
      "\n",
      "                                character     n  \n",
      "name                                             \n",
      "Judi Dench                      Nora Doel   3.0  \n",
      "Judi Dench                    Mrs. Beaver  13.0  \n",
      "Judi Dench                        Titania  16.0  \n",
      "Judi Dench     Eleanor Lavish, a novelist   7.0  \n",
      "Judi Dench                          Sally   8.0  \n",
      "Judi Dench                     Miss Lilly   2.0  \n",
      "Judi Dench                        Paulina   NaN  \n",
      "Judi Dench                              M   4.0  \n",
      "Judi Dench                 Armande Voizin  18.0  \n",
      "Judi Dench                 Laura Davidson   2.0  \n",
      "Judi Dench                              M   6.0  \n",
      "Judi Dench                       Narrator   7.0  \n",
      "Judi Dench                           Wife   2.0  \n",
      "Judi Dench                              M   6.0  \n",
      "Judi Dench                         Hecuba  12.0  \n",
      "Judi Dench                         Joanne   2.0  \n",
      "Judi Dench          Mistress Nell Quickly  26.0  \n",
      "Judi Dench                   Mrs. Caloway   7.0  \n",
      "Judi Dench                   Iris Murdoch   3.0  \n",
      "Judi Dench                   Annie Hoover  13.0  \n",
      "Judi Dench                       Margaret   3.0  \n",
      "Judi Dench                   Mrs. Fairfax  18.0  \n",
      "Judi Dench                         Ursula   1.0  \n",
      "Judi Dench                      Katherine   7.0  \n",
      "Judi Dench                    Miss Avocet   4.0  \n",
      "Judi Dench                 Queen Victoria   1.0  \n",
      "Judi Dench           Mrs. Laura Henderson   1.0  \n",
      "Judi Dench           Princess Dragomiroff  39.0  \n",
      "Judi Dench           Dame Sybil Thorndike  23.0  \n",
      "Judi Dench                          Lilli   6.0  \n",
      "Judi Dench                 Barbara Covett   1.0  \n",
      "Judi Dench                      Philomena   1.0  \n",
      "Judi Dench                   Society Lady  16.0  \n",
      "Judi Dench       Lady Catherine de Bourgh  20.0  \n",
      "Judi Dench                              M   4.0  \n",
      "Judi Dench                   Mona Carvell   NaN  \n",
      "Judi Dench                  Joan Stantley   NaN  \n",
      "Judi Dench                       Bag Lady  40.0  \n",
      "Judi Dench                Queen Elizabeth  12.0  \n",
      "Judi Dench                              M   2.0  \n",
      "Judi Dench                              M   NaN  \n",
      "Judi Dench                           Mary  29.0  \n",
      "Judi Dench                       Arabella   2.0  \n",
      "Judi Dench  Shakespeare's Sonnets read by   3.0  \n",
      "Judi Dench              Evelyn Greenslade   1.0  \n",
      "Judi Dench                         Aereon   4.0  \n",
      "Judi Dench                 Lady Bracknell   5.0  \n",
      "Judi Dench              Evelyn Greenslade   5.0  \n",
      "Judi Dench                     Agnis Hamm   3.0  \n",
      "Judi Dench                 Miss Humphries  12.0  \n",
      "Judi Dench                              M   6.0  \n",
      "Judi Dench                              M   9.0  \n",
      "Judi Dench                         Abbess  11.0  \n",
      "Judi Dench                 Queen Victoria   1.0  \n",
      "Judi Dench              Marcia Pilborough   3.0  \n"
     ]
    }
   ],
   "source": [
    "#how many roles has Sidney Poitier played throughout his career \n",
    "actor = cast.loc['Judi Dench']\n",
    "print(actor)"
   ]
  },
  {
   "cell_type": "code",
   "execution_count": 54,
   "id": "2ba0452f",
   "metadata": {},
   "outputs": [
    {
     "name": "stdout",
     "output_type": "stream",
     "text": [
      "              year                 name     type              character     n\n",
      "title                                                                        \n",
      "The Stranger  1995            Ash Adams    actor     Deputy Steve Stowe   5.0\n",
      "The Stranger  1987    Adolfo Aristarain    actor             Movie goer   NaN\n",
      "The Stranger  1987        Jacques Arndt    actor                   Rhea   7.0\n",
      "The Stranger  1946           David Bond    actor                Student   NaN\n",
      "The Stranger  1995    Andre Rosey Brown    actor             Tony Brown  18.0\n",
      "...            ...                  ...      ...                    ...   ...\n",
      "The Stranger  1987       Sof?a Viruboff  actress              Desk Girl  26.0\n",
      "The Stranger  1946     Martha Wentworth  actress                   Sara   9.0\n",
      "The Stranger  1995  Sandra Lee Williams  actress                Darlene  17.0\n",
      "The Stranger  1946        Loretta Young  actress        Mary Longstreet   2.0\n",
      "The Stranger  1987     Patricia Zangaro  actress  Female Police Officer  16.0\n",
      "\n",
      "[106 rows x 5 columns]\n"
     ]
    }
   ],
   "source": [
    "%matplotlib inline\n",
    "import pandas as pd\n",
    "from IPython.core.display import HTML\n",
    "cast = pd.read_csv('downloads/cast.csv')\n",
    "cast = cast.set_index('title')\n",
    "actor = cast.loc['The Stranger']\n",
    "print(actor)"
   ]
  },
  {
   "cell_type": "code",
   "execution_count": 58,
   "id": "8aaa67c5",
   "metadata": {},
   "outputs": [
    {
     "name": "stdout",
     "output_type": "stream",
     "text": [
      "         year                name     type        character   n\n",
      "title                                                          \n",
      "Ophelia  2018               Booda    actor           Priest NaN\n",
      "Ophelia  2018        Noel Czuczor    actor      Rosencrantz NaN\n",
      "Ophelia  2018  Sebastian De Souza    actor           Edmund NaN\n",
      "Ophelia  2018          Tom Felton    actor          Laertes NaN\n",
      "Ophelia  2018       George MacKay    actor           Hamlet NaN\n",
      "Ophelia  2018      Dominic Mafham    actor         Polonius NaN\n",
      "Ophelia  2018          Clive Owen    actor         Claudius NaN\n",
      "Ophelia  2018       Devon Terrell    actor          Horatio NaN\n",
      "Ophelia  2018        Rupesh Tillu    actor           Yorick NaN\n",
      "Ophelia  2018          Daisy Head  actress        Cristiana NaN\n",
      "Ophelia  2018  Adriana Hercigonja  actress  Lady in Waiting NaN\n",
      "Ophelia  2018       Angela Nwagbo  actress            Viola NaN\n",
      "Ophelia  2018      Lenka Olsanov?  actress  Lady in Waiting NaN\n",
      "Ophelia  2018          Mia Quiney  actress    Young Ophelia NaN\n",
      "Ophelia  2018        Daisy Ridley  actress          Ophelia NaN\n",
      "Ophelia  2018           Anna Rust  actress   Young Mechtild NaN\n",
      "Ophelia  2018        Issy Stewart  actress  Lady in Waiting NaN\n",
      "Ophelia  2018  Veronika Strapkov?  actress  Lady in Waiting NaN\n",
      "Ophelia  2018         Naomi Watts  actress         Gertrude NaN\n",
      "Ophelia  2018         Naomi Watts  actress         Mechtild NaN\n"
     ]
    }
   ],
   "source": [
    "%matplotlib inline\n",
    "import pandas as pd\n",
    "cast = pd.read_csv('downloads/cast.csv')\n",
    "cast = cast.set_index('title')\n",
    "actor = cast.loc['Ophelia']\n",
    "print(actor)"
   ]
  },
  {
   "cell_type": "code",
   "execution_count": 3,
   "id": "84d16cd3",
   "metadata": {},
   "outputs": [
    {
     "data": {
      "text/plain": [
       "0    Hamlet\n",
       "Name: title, dtype: object"
      ]
     },
     "execution_count": 3,
     "metadata": {},
     "output_type": "execute_result"
    }
   ],
   "source": [
    "#what are most common movies of all time\n",
    "%matplotlib inline\n",
    "import pandas as pd\n",
    "from IPython.core.display import HTML\n",
    "titles = pd.read_csv('downloads/titles.csv')\n",
    "titles.head()\n",
    "titles['title'].mode()"
   ]
  },
  {
   "cell_type": "code",
   "execution_count": 4,
   "id": "24451256",
   "metadata": {},
   "outputs": [
    {
     "data": {
      "text/html": [
       "<div>\n",
       "<style scoped>\n",
       "    .dataframe tbody tr th:only-of-type {\n",
       "        vertical-align: middle;\n",
       "    }\n",
       "\n",
       "    .dataframe tbody tr th {\n",
       "        vertical-align: top;\n",
       "    }\n",
       "\n",
       "    .dataframe thead th {\n",
       "        text-align: right;\n",
       "    }\n",
       "</style>\n",
       "<table border=\"1\" class=\"dataframe\">\n",
       "  <thead>\n",
       "    <tr style=\"text-align: right;\">\n",
       "      <th></th>\n",
       "      <th>title</th>\n",
       "      <th>year</th>\n",
       "      <th>country</th>\n",
       "      <th>date</th>\n",
       "    </tr>\n",
       "  </thead>\n",
       "  <tbody>\n",
       "    <tr>\n",
       "      <th>0</th>\n",
       "      <td>#73, Shaanthi Nivaasa</td>\n",
       "      <td>2007</td>\n",
       "      <td>India</td>\n",
       "      <td>2007-06-15</td>\n",
       "    </tr>\n",
       "    <tr>\n",
       "      <th>1</th>\n",
       "      <td>#BKKY</td>\n",
       "      <td>2016</td>\n",
       "      <td>Cambodia</td>\n",
       "      <td>2017-10-12</td>\n",
       "    </tr>\n",
       "    <tr>\n",
       "      <th>2</th>\n",
       "      <td>#Beings</td>\n",
       "      <td>2015</td>\n",
       "      <td>Romania</td>\n",
       "      <td>2015-01-29</td>\n",
       "    </tr>\n",
       "    <tr>\n",
       "      <th>3</th>\n",
       "      <td>#Captured</td>\n",
       "      <td>2017</td>\n",
       "      <td>USA</td>\n",
       "      <td>2017-09-05</td>\n",
       "    </tr>\n",
       "    <tr>\n",
       "      <th>4</th>\n",
       "      <td>#Ewankosau saranghaeyo</td>\n",
       "      <td>2015</td>\n",
       "      <td>Philippines</td>\n",
       "      <td>2015-01-21</td>\n",
       "    </tr>\n",
       "  </tbody>\n",
       "</table>\n",
       "</div>"
      ],
      "text/plain": [
       "                    title  year      country        date\n",
       "0   #73, Shaanthi Nivaasa  2007        India  2007-06-15\n",
       "1                   #BKKY  2016     Cambodia  2017-10-12\n",
       "2                 #Beings  2015      Romania  2015-01-29\n",
       "3               #Captured  2017          USA  2017-09-05\n",
       "4  #Ewankosau saranghaeyo  2015  Philippines  2015-01-21"
      ]
     },
     "execution_count": 4,
     "metadata": {},
     "output_type": "execute_result"
    }
   ],
   "source": [
    "%matplotlib inline\n",
    "import pandas as pd\n",
    "from IPython.core.display import HTML\n",
    "release_dates = pd.read_csv('downloads/release_dates.csv')\n",
    "release_dates.head()\n"
   ]
  },
  {
   "cell_type": "code",
   "execution_count": 10,
   "id": "352ee384",
   "metadata": {},
   "outputs": [
    {
     "data": {
      "text/plain": [
       "<Axes: >"
      ]
     },
     "execution_count": 10,
     "metadata": {},
     "output_type": "execute_result"
    },
    {
     "data": {
      "image/png": "[encoded data removed]",
      "text/plain": [
       "<Figure size 640x480 with 1 Axes>"
      ]
     },
     "metadata": {},
     "output_type": "display_data"
    }
   ],
   "source": [
    "#plot number of movies released in every decade\n",
    "release_dates['year'].hist()"
   ]
  },
  {
   "cell_type": "code",
   "execution_count": 15,
   "id": "3e1c72d5",
   "metadata": {},
   "outputs": [
    {
     "data": {
      "text/plain": [
       "<Axes: >"
      ]
     },
     "execution_count": 15,
     "metadata": {},
     "output_type": "execute_result"
    },
    {
     "data": {
      "image/png": "[encoded data removed]",
      "text/plain": [
       "<Figure size 640x480 with 1 Axes>"
      ]
     },
     "metadata": {},
     "output_type": "display_data"
    }
   ],
   "source": [
    "#plot number of hamlet films released every decade\n",
    "%matplotlib inline\n",
    "import matplotlib.pyplot as plt\n",
    "import pandas as pd\n",
    "from IPython.core.display import HTML\n",
    "titles = pd.read_csv('downloads/titles.csv')\n",
    "titles['decade'] = ((titles.year // 10) * 10)\n",
    "titles[titles.title=='Hamlet'].decade.value_counts().sort_index().plot(kind='bar')"
   ]
  },
  {
   "cell_type": "code",
   "execution_count": 2,
   "id": "0a9840fd",
   "metadata": {},
   "outputs": [
    {
     "data": {
      "text/plain": [
       "<Axes: >"
      ]
     },
     "execution_count": 2,
     "metadata": {},
     "output_type": "execute_result"
    },
    {
     "data": {
      "image/png": "[encoded data removed]",
      "text/plain": [
       "<Figure size 640x480 with 1 Axes>"
      ]
     },
     "metadata": {},
     "output_type": "display_data"
    }
   ],
   "source": [
    "#plot the number of rustlers charecter in each decade of history\n",
    "%matplotlib inline\n",
    "import matplotlib.pyplot as plt\n",
    "import pandas as pd\n",
    "from IPython.core.display import HTML\n",
    "cast = pd.read_csv('downloads/cast.csv')\n",
    "cast['title'].value_counts().plot()"
   ]
  },
  {
   "cell_type": "code",
   "execution_count": 3,
   "id": "68e360a4",
   "metadata": {},
   "outputs": [
    {
     "data": {
      "text/plain": [
       "0    Around the World in 80 Days\n",
       "Name: title, dtype: object"
      ]
     },
     "execution_count": 3,
     "metadata": {},
     "output_type": "execute_result"
    }
   ],
   "source": [
    "#what are 11 most common charecters names in history\n",
    "cast['title'].mode()"
   ]
  },
  {
   "cell_type": "code",
   "execution_count": 9,
   "id": "7359630f",
   "metadata": {},
   "outputs": [
    {
     "name": "stdout",
     "output_type": "stream",
     "text": [
      "                                              title  year  \\\n",
      "character                                                   \n",
      "Himself    Been Down So Long It Looks Like Up to Me  1971   \n",
      "Himself                      I Wanna Hold Your Hand  1978   \n",
      "Himself                                  Whitefolks  2017   \n",
      "Himself                        Love Hollywood Style  2006   \n",
      "Himself                         Malibu Horror Story  2018   \n",
      "...                                             ...   ...   \n",
      "Himself                                 Paper Heart  2009   \n",
      "Himself                          The Feminine Touch  1941   \n",
      "Himself                                 Change (IV)  2014   \n",
      "Himself           Head Cheerleader Dead Cheerleader  2000   \n",
      "Himself                                 Pamuk Prens  2016   \n",
      "\n",
      "                                            name     type     n  \n",
      "character                                                        \n",
      "Himself                           Murray the 'K'    actor   NaN  \n",
      "Himself                           Murray the 'K'    actor  48.0  \n",
      "Himself    Darryel 'Original Whitefolks' Woodson    actor  14.0  \n",
      "Himself                                   Mac 10    actor   NaN  \n",
      "Himself                              12th Planet    actor  21.0  \n",
      "...                                          ...      ...   ...  \n",
      "Himself                             Gill Summers  actress   4.0  \n",
      "Himself                            Dennie Travis  actress   NaN  \n",
      "Himself                             B?ra V?vrov?  actress   NaN  \n",
      "Himself                                     Yeti  actress  31.0  \n",
      "Himself                              Bet?l ?zen?  actress  16.0  \n",
      "\n",
      "[20746 rows x 5 columns]\n"
     ]
    }
   ],
   "source": [
    "#who are 10 most often credited as himself in film history\n",
    "import pandas as pd\n",
    "cast = pd.read_csv('downloads/cast.csv')\n",
    "cast = cast.set_index('character')\n",
    "actor = cast.loc['Himself']\n",
    "print(actor)"
   ]
  },
  {
   "cell_type": "code",
   "execution_count": 12,
   "id": "e7ff1bd4",
   "metadata": {},
   "outputs": [
    {
     "name": "stdout",
     "output_type": "stream",
     "text": [
      "                                            title  year               name  \\\n",
      "type                                                                         \n",
      "actor                           Ristikon varjossa  1945    Heikki Aaltoila   \n",
      "actor                        Kolmastoista koputus  1945    Kaarlo Aavajoki   \n",
      "actor                    Valkoisen neilikan velho  1945    Kaarlo Aavajoki   \n",
      "actor                          God Is My Co-Pilot  1945          Leo Abbey   \n",
      "actor    Bud Abbott and Lou Costello in Hollywood  1945         Bud Abbott   \n",
      "...                                           ...   ...                ...   \n",
      "actress                       Un beso en la noche  1945       Elba ?lvarez   \n",
      "actress                     Den allvarsamma leken  1945  Inga-Lill ?hstr?m   \n",
      "actress                                Resan bort  1945  Inga-Lill ?hstr?m   \n",
      "actress                           La grande meute  1945  Paulette ?lambert   \n",
      "actress                         La route du bagne  1945  Paulette ?lambert   \n",
      "\n",
      "                        character     n  \n",
      "type                                     \n",
      "actor                    Musician   NaN  \n",
      "actor                       Grisu  17.0  \n",
      "actor                       Romsu  10.0  \n",
      "actor              Ground Crewman   NaN  \n",
      "actor                 Buzz Kurtis   1.0  \n",
      "...                           ...   ...  \n",
      "actress                Secretaria   7.0  \n",
      "actress  Guest at Doncker's Party   NaN  \n",
      "actress                     Nurse   NaN  \n",
      "actress                  Laurette   NaN  \n",
      "actress                La P?lotte   4.0  \n",
      "\n",
      "[18500 rows x 5 columns]\n"
     ]
    }
   ],
   "source": [
    "#which actor or actress appeared in movie 1945\n",
    "import pandas as pd\n",
    "cast = pd.read_csv('downloads/cast.csv')\n",
    "cast = cast.set_index('type')\n",
    "actress =  cast[cast['year'] == 1945]\n",
    "print(actress)"
   ]
  },
  {
   "cell_type": "code",
   "execution_count": 13,
   "id": "c5e2502c",
   "metadata": {},
   "outputs": [
    {
     "name": "stdout",
     "output_type": "stream",
     "text": [
      "                      title  year                name      character     n\n",
      "type                                                                      \n",
      "actor       Suuri illusioni  1985              Homo $         Guests  22.0\n",
      "actor      Hei kliffaa hei!  1985      Risto Aaltonen     Taksikuski   9.0\n",
      "actor    Inferno in diretta  1985        Willie Aames     Tommy Allo   3.0\n",
      "actor              Big Deal  1985           Bob Aaron         Cabbie  20.0\n",
      "actor         A Chorus Line  1985          Eric Aaron         Dancer   NaN\n",
      "...                     ...   ...                 ...            ...   ...\n",
      "actress         Kanun adami  1985         Bahar ?ztan          ?mran   2.0\n",
      "actress              Mahkum  1985         Bahar ?ztan   Hemsire Ayse   NaN\n",
      "actress         Eroin hatti  1985    G?zin ?zyagcilar          Bebek   NaN\n",
      "actress      Candan sevmeli  1985       Ayseg?l ?nsal         Sermin   NaN\n",
      "actress           Skammdegi  1985  Dalla ??r?ard?ttir  Hj?krunarkona   9.0\n",
      "\n",
      "[28492 rows x 5 columns]\n"
     ]
    }
   ],
   "source": [
    "#which actor or actress appear in most movies in 1985\n",
    "actress =  cast[cast['year'] == 1985]\n",
    "print(actress)"
   ]
  },
  {
   "cell_type": "code",
   "execution_count": 17,
   "id": "a4197d80",
   "metadata": {},
   "outputs": [
    {
     "ename": "IndexError",
     "evalue": "index 0 is out of bounds for axis 0 with size 0",
     "output_type": "error",
     "traceback": [
      "\u001b[1;31m---------------------------------------------------------------------------\u001b[0m",
      "\u001b[1;31mIndexError\u001b[0m                                Traceback (most recent call last)",
      "Cell \u001b[1;32mIn[17], line 2\u001b[0m\n\u001b[0;32m      1\u001b[0m \u001b[38;5;66;03m#plot how many roles mamoothy has played in each year of his career\u001b[39;00m\n\u001b[1;32m----> 2\u001b[0m cast[cast\u001b[38;5;241m.\u001b[39mname\u001b[38;5;241m==\u001b[39m\u001b[38;5;124m'\u001b[39m\u001b[38;5;124mMammoothy\u001b[39m\u001b[38;5;124m'\u001b[39m]\u001b[38;5;241m.\u001b[39myear\u001b[38;5;241m.\u001b[39mvalue_counts()\u001b[38;5;241m.\u001b[39msort_index()\u001b[38;5;241m.\u001b[39mplot(kind\u001b[38;5;241m=\u001b[39m\u001b[38;5;124m'\u001b[39m\u001b[38;5;124mbar\u001b[39m\u001b[38;5;124m'\u001b[39m)\n",
      "File \u001b[1;32m~\\anaconda3\\Lib\\site-packages\\pandas\\plotting\\_core.py:1000\u001b[0m, in \u001b[0;36mPlotAccessor.__call__\u001b[1;34m(self, *args, **kwargs)\u001b[0m\n\u001b[0;32m    997\u001b[0m             label_name \u001b[38;5;241m=\u001b[39m label_kw \u001b[38;5;129;01mor\u001b[39;00m data\u001b[38;5;241m.\u001b[39mcolumns\n\u001b[0;32m    998\u001b[0m             data\u001b[38;5;241m.\u001b[39mcolumns \u001b[38;5;241m=\u001b[39m label_name\n\u001b[1;32m-> 1000\u001b[0m \u001b[38;5;28;01mreturn\u001b[39;00m plot_backend\u001b[38;5;241m.\u001b[39mplot(data, kind\u001b[38;5;241m=\u001b[39mkind, \u001b[38;5;241m*\u001b[39m\u001b[38;5;241m*\u001b[39mkwargs)\n",
      "File \u001b[1;32m~\\anaconda3\\Lib\\site-packages\\pandas\\plotting\\_matplotlib\\__init__.py:71\u001b[0m, in \u001b[0;36mplot\u001b[1;34m(data, kind, **kwargs)\u001b[0m\n\u001b[0;32m     69\u001b[0m         kwargs[\u001b[38;5;124m\"\u001b[39m\u001b[38;5;124max\u001b[39m\u001b[38;5;124m\"\u001b[39m] \u001b[38;5;241m=\u001b[39m \u001b[38;5;28mgetattr\u001b[39m(ax, \u001b[38;5;124m\"\u001b[39m\u001b[38;5;124mleft_ax\u001b[39m\u001b[38;5;124m\"\u001b[39m, ax)\n\u001b[0;32m     70\u001b[0m plot_obj \u001b[38;5;241m=\u001b[39m PLOT_CLASSES[kind](data, \u001b[38;5;241m*\u001b[39m\u001b[38;5;241m*\u001b[39mkwargs)\n\u001b[1;32m---> 71\u001b[0m plot_obj\u001b[38;5;241m.\u001b[39mgenerate()\n\u001b[0;32m     72\u001b[0m plot_obj\u001b[38;5;241m.\u001b[39mdraw()\n\u001b[0;32m     73\u001b[0m \u001b[38;5;28;01mreturn\u001b[39;00m plot_obj\u001b[38;5;241m.\u001b[39mresult\n",
      "File \u001b[1;32m~\\anaconda3\\Lib\\site-packages\\pandas\\plotting\\_matplotlib\\core.py:459\u001b[0m, in \u001b[0;36mMPLPlot.generate\u001b[1;34m(self)\u001b[0m\n\u001b[0;32m    457\u001b[0m \u001b[38;5;28;01mfor\u001b[39;00m ax \u001b[38;5;129;01min\u001b[39;00m \u001b[38;5;28mself\u001b[39m\u001b[38;5;241m.\u001b[39maxes:\n\u001b[0;32m    458\u001b[0m     \u001b[38;5;28mself\u001b[39m\u001b[38;5;241m.\u001b[39m_post_plot_logic_common(ax, \u001b[38;5;28mself\u001b[39m\u001b[38;5;241m.\u001b[39mdata)\n\u001b[1;32m--> 459\u001b[0m     \u001b[38;5;28mself\u001b[39m\u001b[38;5;241m.\u001b[39m_post_plot_logic(ax, \u001b[38;5;28mself\u001b[39m\u001b[38;5;241m.\u001b[39mdata)\n",
      "File \u001b[1;32m~\\anaconda3\\Lib\\site-packages\\pandas\\plotting\\_matplotlib\\core.py:1739\u001b[0m, in \u001b[0;36mBarPlot._post_plot_logic\u001b[1;34m(self, ax, data)\u001b[0m\n\u001b[0;32m   1736\u001b[0m \u001b[38;5;28;01melse\u001b[39;00m:\n\u001b[0;32m   1737\u001b[0m     str_index \u001b[38;5;241m=\u001b[39m [pprint_thing(key) \u001b[38;5;28;01mfor\u001b[39;00m key \u001b[38;5;129;01min\u001b[39;00m \u001b[38;5;28mrange\u001b[39m(data\u001b[38;5;241m.\u001b[39mshape[\u001b[38;5;241m0\u001b[39m])]\n\u001b[1;32m-> 1739\u001b[0m s_edge \u001b[38;5;241m=\u001b[39m \u001b[38;5;28mself\u001b[39m\u001b[38;5;241m.\u001b[39max_pos[\u001b[38;5;241m0\u001b[39m] \u001b[38;5;241m-\u001b[39m \u001b[38;5;241m0.25\u001b[39m \u001b[38;5;241m+\u001b[39m \u001b[38;5;28mself\u001b[39m\u001b[38;5;241m.\u001b[39mlim_offset\n\u001b[0;32m   1740\u001b[0m e_edge \u001b[38;5;241m=\u001b[39m \u001b[38;5;28mself\u001b[39m\u001b[38;5;241m.\u001b[39max_pos[\u001b[38;5;241m-\u001b[39m\u001b[38;5;241m1\u001b[39m] \u001b[38;5;241m+\u001b[39m \u001b[38;5;241m0.25\u001b[39m \u001b[38;5;241m+\u001b[39m \u001b[38;5;28mself\u001b[39m\u001b[38;5;241m.\u001b[39mbar_width \u001b[38;5;241m+\u001b[39m \u001b[38;5;28mself\u001b[39m\u001b[38;5;241m.\u001b[39mlim_offset\n\u001b[0;32m   1742\u001b[0m \u001b[38;5;28mself\u001b[39m\u001b[38;5;241m.\u001b[39m_decorate_ticks(ax, \u001b[38;5;28mself\u001b[39m\u001b[38;5;241m.\u001b[39m_get_index_name(), str_index, s_edge, e_edge)\n",
      "\u001b[1;31mIndexError\u001b[0m: index 0 is out of bounds for axis 0 with size 0"
     ]
    },
    {
     "data": {
      "image/png": "[encoded data removed]",
      "text/plain": [
       "<Figure size 640x480 with 1 Axes>"
      ]
     },
     "metadata": {},
     "output_type": "display_data"
    }
   ],
   "source": [
    "#plot how many roles mamoothy has played in each year of his career\n"
   ]
  },
  {
   "cell_type": "code",
   "execution_count": 20,
   "id": "696c1d96",
   "metadata": {
    "scrolled": true
   },
   "outputs": [
    {
     "ename": "KeyError",
     "evalue": "'Patron in'",
     "output_type": "error",
     "traceback": [
      "\u001b[1;31m---------------------------------------------------------------------------\u001b[0m",
      "\u001b[1;31mKeyError\u001b[0m                                  Traceback (most recent call last)",
      "File \u001b[1;32m~\\anaconda3\\Lib\\site-packages\\pandas\\core\\indexes\\base.py:3802\u001b[0m, in \u001b[0;36mIndex.get_loc\u001b[1;34m(self, key, method, tolerance)\u001b[0m\n\u001b[0;32m   3801\u001b[0m \u001b[38;5;28;01mtry\u001b[39;00m:\n\u001b[1;32m-> 3802\u001b[0m     \u001b[38;5;28;01mreturn\u001b[39;00m \u001b[38;5;28mself\u001b[39m\u001b[38;5;241m.\u001b[39m_engine\u001b[38;5;241m.\u001b[39mget_loc(casted_key)\n\u001b[0;32m   3803\u001b[0m \u001b[38;5;28;01mexcept\u001b[39;00m \u001b[38;5;167;01mKeyError\u001b[39;00m \u001b[38;5;28;01mas\u001b[39;00m err:\n",
      "File \u001b[1;32m~\\anaconda3\\Lib\\site-packages\\pandas\\_libs\\index.pyx:138\u001b[0m, in \u001b[0;36mpandas._libs.index.IndexEngine.get_loc\u001b[1;34m()\u001b[0m\n",
      "File \u001b[1;32m~\\anaconda3\\Lib\\site-packages\\pandas\\_libs\\index.pyx:162\u001b[0m, in \u001b[0;36mpandas._libs.index.IndexEngine.get_loc\u001b[1;34m()\u001b[0m\n",
      "File \u001b[1;32m~\\anaconda3\\Lib\\site-packages\\pandas\\_libs\\index.pyx:203\u001b[0m, in \u001b[0;36mpandas._libs.index.IndexEngine._get_loc_duplicates\u001b[1;34m()\u001b[0m\n",
      "File \u001b[1;32m~\\anaconda3\\Lib\\site-packages\\pandas\\_libs\\index.pyx:211\u001b[0m, in \u001b[0;36mpandas._libs.index.IndexEngine._maybe_get_bool_indexer\u001b[1;34m()\u001b[0m\n",
      "File \u001b[1;32m~\\anaconda3\\Lib\\site-packages\\pandas\\_libs\\index.pyx:107\u001b[0m, in \u001b[0;36mpandas._libs.index._unpack_bool_indexer\u001b[1;34m()\u001b[0m\n",
      "\u001b[1;31mKeyError\u001b[0m: 'Patron in'",
      "\nThe above exception was the direct cause of the following exception:\n",
      "\u001b[1;31mKeyError\u001b[0m                                  Traceback (most recent call last)",
      "Cell \u001b[1;32mIn[20], line 3\u001b[0m\n\u001b[0;32m      1\u001b[0m \u001b[38;5;66;03m# what are 10 most frewuent roles that start with phase parton in\u001b[39;00m\n\u001b[0;32m      2\u001b[0m cast \u001b[38;5;241m=\u001b[39m cast\u001b[38;5;241m.\u001b[39mset_index(\u001b[38;5;124m'\u001b[39m\u001b[38;5;124mtitle\u001b[39m\u001b[38;5;124m'\u001b[39m)\n\u001b[1;32m----> 3\u001b[0m actor \u001b[38;5;241m=\u001b[39m cast\u001b[38;5;241m.\u001b[39mloc[\u001b[38;5;124m'\u001b[39m\u001b[38;5;124mPatron in\u001b[39m\u001b[38;5;124m'\u001b[39m]\n\u001b[0;32m      4\u001b[0m \u001b[38;5;28mprint\u001b[39m(actor)\n",
      "File \u001b[1;32m~\\anaconda3\\Lib\\site-packages\\pandas\\core\\indexing.py:1073\u001b[0m, in \u001b[0;36m_LocationIndexer.__getitem__\u001b[1;34m(self, key)\u001b[0m\n\u001b[0;32m   1070\u001b[0m axis \u001b[38;5;241m=\u001b[39m \u001b[38;5;28mself\u001b[39m\u001b[38;5;241m.\u001b[39maxis \u001b[38;5;129;01mor\u001b[39;00m \u001b[38;5;241m0\u001b[39m\n\u001b[0;32m   1072\u001b[0m maybe_callable \u001b[38;5;241m=\u001b[39m com\u001b[38;5;241m.\u001b[39mapply_if_callable(key, \u001b[38;5;28mself\u001b[39m\u001b[38;5;241m.\u001b[39mobj)\n\u001b[1;32m-> 1073\u001b[0m \u001b[38;5;28;01mreturn\u001b[39;00m \u001b[38;5;28mself\u001b[39m\u001b[38;5;241m.\u001b[39m_getitem_axis(maybe_callable, axis\u001b[38;5;241m=\u001b[39maxis)\n",
      "File \u001b[1;32m~\\anaconda3\\Lib\\site-packages\\pandas\\core\\indexing.py:1312\u001b[0m, in \u001b[0;36m_LocIndexer._getitem_axis\u001b[1;34m(self, key, axis)\u001b[0m\n\u001b[0;32m   1310\u001b[0m \u001b[38;5;66;03m# fall thru to straight lookup\u001b[39;00m\n\u001b[0;32m   1311\u001b[0m \u001b[38;5;28mself\u001b[39m\u001b[38;5;241m.\u001b[39m_validate_key(key, axis)\n\u001b[1;32m-> 1312\u001b[0m \u001b[38;5;28;01mreturn\u001b[39;00m \u001b[38;5;28mself\u001b[39m\u001b[38;5;241m.\u001b[39m_get_label(key, axis\u001b[38;5;241m=\u001b[39maxis)\n",
      "File \u001b[1;32m~\\anaconda3\\Lib\\site-packages\\pandas\\core\\indexing.py:1260\u001b[0m, in \u001b[0;36m_LocIndexer._get_label\u001b[1;34m(self, label, axis)\u001b[0m\n\u001b[0;32m   1258\u001b[0m \u001b[38;5;28;01mdef\u001b[39;00m \u001b[38;5;21m_get_label\u001b[39m(\u001b[38;5;28mself\u001b[39m, label, axis: \u001b[38;5;28mint\u001b[39m):\n\u001b[0;32m   1259\u001b[0m     \u001b[38;5;66;03m# GH#5567 this will fail if the label is not present in the axis.\u001b[39;00m\n\u001b[1;32m-> 1260\u001b[0m     \u001b[38;5;28;01mreturn\u001b[39;00m \u001b[38;5;28mself\u001b[39m\u001b[38;5;241m.\u001b[39mobj\u001b[38;5;241m.\u001b[39mxs(label, axis\u001b[38;5;241m=\u001b[39maxis)\n",
      "File \u001b[1;32m~\\anaconda3\\Lib\\site-packages\\pandas\\core\\generic.py:4056\u001b[0m, in \u001b[0;36mNDFrame.xs\u001b[1;34m(self, key, axis, level, drop_level)\u001b[0m\n\u001b[0;32m   4054\u001b[0m             new_index \u001b[38;5;241m=\u001b[39m index[loc]\n\u001b[0;32m   4055\u001b[0m \u001b[38;5;28;01melse\u001b[39;00m:\n\u001b[1;32m-> 4056\u001b[0m     loc \u001b[38;5;241m=\u001b[39m index\u001b[38;5;241m.\u001b[39mget_loc(key)\n\u001b[0;32m   4058\u001b[0m     \u001b[38;5;28;01mif\u001b[39;00m \u001b[38;5;28misinstance\u001b[39m(loc, np\u001b[38;5;241m.\u001b[39mndarray):\n\u001b[0;32m   4059\u001b[0m         \u001b[38;5;28;01mif\u001b[39;00m loc\u001b[38;5;241m.\u001b[39mdtype \u001b[38;5;241m==\u001b[39m np\u001b[38;5;241m.\u001b[39mbool_:\n",
      "File \u001b[1;32m~\\anaconda3\\Lib\\site-packages\\pandas\\core\\indexes\\base.py:3804\u001b[0m, in \u001b[0;36mIndex.get_loc\u001b[1;34m(self, key, method, tolerance)\u001b[0m\n\u001b[0;32m   3802\u001b[0m     \u001b[38;5;28;01mreturn\u001b[39;00m \u001b[38;5;28mself\u001b[39m\u001b[38;5;241m.\u001b[39m_engine\u001b[38;5;241m.\u001b[39mget_loc(casted_key)\n\u001b[0;32m   3803\u001b[0m \u001b[38;5;28;01mexcept\u001b[39;00m \u001b[38;5;167;01mKeyError\u001b[39;00m \u001b[38;5;28;01mas\u001b[39;00m err:\n\u001b[1;32m-> 3804\u001b[0m     \u001b[38;5;28;01mraise\u001b[39;00m \u001b[38;5;167;01mKeyError\u001b[39;00m(key) \u001b[38;5;28;01mfrom\u001b[39;00m \u001b[38;5;21;01merr\u001b[39;00m\n\u001b[0;32m   3805\u001b[0m \u001b[38;5;28;01mexcept\u001b[39;00m \u001b[38;5;167;01mTypeError\u001b[39;00m:\n\u001b[0;32m   3806\u001b[0m     \u001b[38;5;66;03m# If we have a listlike key, _check_indexing_error will raise\u001b[39;00m\n\u001b[0;32m   3807\u001b[0m     \u001b[38;5;66;03m#  InvalidIndexError. Otherwise we fall through and re-raise\u001b[39;00m\n\u001b[0;32m   3808\u001b[0m     \u001b[38;5;66;03m#  the TypeError.\u001b[39;00m\n\u001b[0;32m   3809\u001b[0m     \u001b[38;5;28mself\u001b[39m\u001b[38;5;241m.\u001b[39m_check_indexing_error(key)\n",
      "\u001b[1;31mKeyError\u001b[0m: 'Patron in'"
     ]
    }
   ],
   "source": [
    "# what are 10 most frewuent roles that start with phase parton in\n"
   ]
  },
  {
   "cell_type": "code",
   "execution_count": 1,
   "id": "c592c633",
   "metadata": {},
   "outputs": [
    {
     "name": "stdout",
     "output_type": "stream",
     "text": [
      "                                      title  year\n",
      "0                        Tasveer Mere Sanam  1996\n",
      "1                                  Only You  1994\n",
      "2                      El pueblo del terror  1970\n",
      "3                                   Machine  2007\n",
      "4                                      MARy  2008\n",
      "...                                     ...   ...\n",
      "244909  Black Butterfly in a Colorful World  2018\n",
      "244910        Hua fei hua wu chun man cheng  1980\n",
      "244911                 Nippon dabi katsukyu  1970\n",
      "244912        Under Siege 2: Dark Territory  1995\n",
      "244913            She Must Be Seeing Things  1987\n",
      "\n",
      "[244263 rows x 2 columns]\n"
     ]
    }
   ],
   "source": [
    "#using groupby() plot number of films that have been released each year\n",
    "%matplotlib inline\n",
    "import pandas as pd\n",
    "import matplotlib.pyplot as plt\n",
    "from IPython.core.display import HTML\n",
    "titles = pd.read_csv('downloads/titles.csv')\n",
    "titles.head()\n",
    "print(titles.groupby('title').head())"
   ]
  },
  {
   "cell_type": "code",
   "execution_count": null,
   "id": "55ec4732",
   "metadata": {},
   "outputs": [],
   "source": [
    "#use groupby() plot number of hamlet films each decade\n",
    "titles.groupby('title').plot()"
   ]
  },
  {
   "cell_type": "code",
   "execution_count": null,
   "id": "75d387ea",
   "metadata": {},
   "outputs": [],
   "source": []
  }
 ],
 "metadata": {
  "kernelspec": {
   "display_name": "Python 3 (ipykernel)",
   "language": "python",
   "name": "python3"
  },
  "language_info": {
   "codemirror_mode": {
    "name": "ipython",
    "version": 3
   },
   "file_extension": ".py",
   "mimetype": "text/x-python",
   "name": "python",
   "nbconvert_exporter": "python",
   "pygments_lexer": "ipython3",
   "version": "3.11.4"
  }
 },
 "nbformat": 4,
 "nbformat_minor": 5
}
