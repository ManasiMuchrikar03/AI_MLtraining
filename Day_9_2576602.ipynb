{
 "cells": [
  {
   "cell_type": "code",
   "execution_count": 2,
   "id": "619753b2",
   "metadata": {},
   "outputs": [
    {
     "name": "stdout",
     "output_type": "stream",
     "text": [
      "[[[0.77492914 0.77289497 0.22180367]\n",
      "  [0.14040421 0.28030991 0.97369677]\n",
      "  [0.09685718 0.81652093 0.5484751 ]]\n",
      "\n",
      " [[0.99124195 0.47362954 0.86591517]\n",
      "  [0.20479745 0.50412581 0.48223466]\n",
      "  [0.12698133 0.62880529 0.8572447 ]]\n",
      "\n",
      " [[0.93319621 0.95701625 0.70414763]\n",
      "  [0.77893525 0.10375344 0.96234439]\n",
      "  [0.20401944 0.19444434 0.57700538]]]\n"
     ]
    }
   ],
   "source": [
    "#create a 3X3X3 array with random values\n",
    "import numpy as np\n",
    "random_mat = np.random.random((3,3,3))\n",
    "print(random_mat)"
   ]
  },
  {
   "cell_type": "code",
   "execution_count": 3,
   "id": "d29d796e",
   "metadata": {},
   "outputs": [],
   "source": [
    "#create a 5X5 matrix with values 1,2,3,4 just below digonal\n",
    "import numpy as np\n"
   ]
  },
  {
   "cell_type": "code",
   "execution_count": 4,
   "id": "989090a3",
   "metadata": {},
   "outputs": [
    {
     "name": "stdout",
     "output_type": "stream",
     "text": [
      "[[0 1 0 1 0 1 0 1]\n",
      " [1 0 1 0 1 0 1 0]\n",
      " [0 1 0 1 0 1 0 1]\n",
      " [1 0 1 0 1 0 1 0]\n",
      " [0 1 0 1 0 1 0 1]\n",
      " [1 0 1 0 1 0 1 0]\n",
      " [0 1 0 1 0 1 0 1]\n",
      " [1 0 1 0 1 0 1 0]]\n"
     ]
    }
   ],
   "source": [
    "#create 8X8 matrix and fill it up in chessboard pattern\n",
    "import numpy as np\n",
    "a = np.ones((3,3))\n",
    "a = np.zeros((8,8),dtype=int)\n",
    "a[1::2,::2] = 1\n",
    "a[::2,1::2] = 1\n",
    "print(a)"
   ]
  },
  {
   "cell_type": "code",
   "execution_count": 5,
   "id": "509f8c17",
   "metadata": {},
   "outputs": [
    {
     "name": "stdout",
     "output_type": "stream",
     "text": [
      "[[0.51770314 0.34140171 0.44974831 0.21497843 0.85761539]\n",
      " [0.88866729 0.59355505 0.77130629 0.41558213 0.07249028]\n",
      " [0.50957781 0.75876366 0.64641882 0.02526717 0.5503504 ]\n",
      " [0.76984429 0.49176598 0.00316161 0.59078244 0.20961835]\n",
      " [0.9626182  0.9982415  0.5470962  0.67036253 0.04647403]]\n",
      "[[0.51708564 0.33991251 0.44879481 0.21286413 0.85867857]\n",
      " [0.88988401 0.5933126  0.77194272 0.4144597  0.06967145]\n",
      " [0.50892014 0.75933808 0.64643776 0.02221486 0.54989433]\n",
      " [0.7704735  0.49102024 0.         0.59052628 0.20747755]\n",
      " [0.96420056 1.         0.54662404 0.67049985 0.04352657]]\n"
     ]
    }
   ],
   "source": [
    "#normalise 5X5 random matrix\n",
    "import numpy as np\n",
    "a = np.random.random((5,5))\n",
    "print(a)\n",
    "a_min = a.min()\n",
    "a_max = a.max()\n",
    "a_normalised = (a - a_min) / (a_max - a_min)\n",
    "print(a_normalised)\n",
    "\n"
   ]
  },
  {
   "cell_type": "code",
   "execution_count": 7,
   "id": "0b862bc7",
   "metadata": {},
   "outputs": [
    {
     "name": "stdout",
     "output_type": "stream",
     "text": [
      "common values are [15]\n"
     ]
    }
   ],
   "source": [
    "#how to find common values between two arrays\n",
    "import numpy as np\n",
    "array_1 = [5,10,15,20]\n",
    "array_2 = [3,6,15,2]\n",
    "result_array = np.intersect1d(array_1,array_2)\n",
    "print('common values are',result_array)"
   ]
  },
  {
   "cell_type": "code",
   "execution_count": 12,
   "id": "4dd89728",
   "metadata": {},
   "outputs": [
    {
     "ename": "TypeError",
     "evalue": "unsupported operand type(s) for -: 'builtin_function_or_method' and 'datetime.timedelta'",
     "output_type": "error",
     "traceback": [
      "\u001b[1;31m---------------------------------------------------------------------------\u001b[0m",
      "\u001b[1;31mTypeError\u001b[0m                                 Traceback (most recent call last)",
      "Cell \u001b[1;32mIn[12], line 6\u001b[0m\n\u001b[0;32m      4\u001b[0m \u001b[38;5;28;01mfrom\u001b[39;00m \u001b[38;5;21;01mdatetime\u001b[39;00m \u001b[38;5;28;01mimport\u001b[39;00m timedelta\n\u001b[0;32m      5\u001b[0m date_today \u001b[38;5;241m=\u001b[39m date\u001b[38;5;241m.\u001b[39mtoday\n\u001b[1;32m----> 6\u001b[0m date_yesterday \u001b[38;5;241m=\u001b[39m (date_today) \u001b[38;5;241m-\u001b[39m timedelta(days\u001b[38;5;241m=\u001b[39m\u001b[38;5;241m1\u001b[39m)\n\u001b[0;32m      7\u001b[0m date_tomorrow \u001b[38;5;241m=\u001b[39m (date_today) \u001b[38;5;241m+\u001b[39m timedelta(days\u001b[38;5;241m=\u001b[39m\u001b[38;5;241m1\u001b[39m)\n\u001b[0;32m      8\u001b[0m date_array \u001b[38;5;241m=\u001b[39m ([date_yesterday,date_today,date_tomorrow])\n",
      "\u001b[1;31mTypeError\u001b[0m: unsupported operand type(s) for -: 'builtin_function_or_method' and 'datetime.timedelta'"
     ]
    }
   ],
   "source": [
    "#how to get dates of yesterday,today and tomorrow\n",
    "import numpy as np\n",
    "from datetime import date\n",
    "from datetime import timedelta\n",
    "date_today = date.today\n",
    "date_yesterday = (date_today) - timedelta(days=1)\n",
    "date_tomorrow = (date_today) + timedelta(days=1)\n",
    "date_array = ([date_yesterday,date_today,date_tomorrow])\n",
    "print(date_array)"
   ]
  },
  {
   "cell_type": "code",
   "execution_count": 14,
   "id": "12367ede",
   "metadata": {},
   "outputs": [
    {
     "name": "stdout",
     "output_type": "stream",
     "text": [
      "[[0.86403249 0.3172132  0.96598423]]\n",
      "[[0.22693083 0.79844025 0.63052881]]\n",
      "[]\n"
     ]
    }
   ],
   "source": [
    "#consider two random arrays A and B check if they are equal\n",
    "import numpy as np\n",
    "a = np.random.random((1,3))\n",
    "print(a)\n",
    "b = np.random.random((1,3))\n",
    "print(b)\n",
    "common = np.intersect1d(a,b)\n",
    "print(common)"
   ]
  },
  {
   "cell_type": "code",
   "execution_count": 27,
   "id": "4d8c3090",
   "metadata": {},
   "outputs": [
    {
     "name": "stdout",
     "output_type": "stream",
     "text": [
      "[[0.6081454  0.19846937 0.8937292  0.58586731 0.77700043]\n",
      " [0.70330297 0.83041343 0.9762246  0.94839681 0.47059057]]\n",
      "0.9762246003006159\n",
      "[[0.6081454  0.19846937 0.8937292  0.58586731 0.77700043]\n",
      " [0.70330297 0.83041343 0.9762246  0.94839681 0.47059057]]\n"
     ]
    }
   ],
   "source": [
    "#create random vector of size 10 and replace maximum value by 0\n",
    "import numpy as np\n",
    "x = np.random.random((2,5))\n",
    "print(x)\n",
    "y = np.max(x)\n",
    "print(y)\n",
    "print(x)\n"
   ]
  },
  {
   "cell_type": "code",
   "execution_count": 30,
   "id": "ca2c2fb9",
   "metadata": {},
   "outputs": [
    {
     "name": "stdout",
     "output_type": "stream",
     "text": [
      "[[0.97738772 0.2906088  0.80698264]\n",
      " [0.2592198  0.67128883 0.07837842]\n",
      " [0.76044359 0.86314762 0.37551844]]\n"
     ]
    }
   ],
   "source": [
    "#how to print all values of an array \n",
    "import numpy as np\n",
    "x = np.random.random((3,3))\n",
    "print(x)"
   ]
  },
  {
   "cell_type": "code",
   "execution_count": 34,
   "id": "68f07bc6",
   "metadata": {},
   "outputs": [
    {
     "name": "stdout",
     "output_type": "stream",
     "text": [
      "[[0.04839849 0.6750929  0.09692053]\n",
      " [0.76371032 0.72360427 0.36222664]\n",
      " [0.06420713 0.77526717 0.96699022]]\n",
      "[[0.3031113  0.21515126 0.61816816]\n",
      " [0.58224829 0.35343962 0.47985478]\n",
      " [0.393311   0.25588623 0.15323759]]\n",
      "dot_product [[0.44586172 0.2738182  0.36871682]\n",
      " [0.7952743  0.51275247 0.87483311]\n",
      " [0.85118779 0.53526386 0.55988571]]\n",
      "digonal [0.44586172 0.51275247 0.55988571]\n"
     ]
    }
   ],
   "source": [
    "#how to get diagonal of dot product\n",
    "import numpy as np\n",
    "a = np.random.random((3,3))\n",
    "b = np.random.random((3,3))\n",
    "print(a)\n",
    "print(b)\n",
    "dot_product = np.dot(a,b)\n",
    "print('dot_product',dot_product)\n",
    "diagonal = np.diag(dot_product)\n",
    "print('digonal',diagonal)"
   ]
  },
  {
   "cell_type": "code",
   "execution_count": 38,
   "id": "1763608f",
   "metadata": {},
   "outputs": [
    {
     "name": "stdout",
     "output_type": "stream",
     "text": [
      "[5 1]\n",
      "1\n"
     ]
    }
   ],
   "source": [
    "#how to get most frequent value in an array\n",
    "import numpy as np\n",
    "x = np.random.randint((6,7))\n",
    "print(x)\n",
    "y = np.bincount(x).argmax()\n",
    "print(y)"
   ]
  },
  {
   "cell_type": "code",
   "execution_count": 40,
   "id": "371da93f",
   "metadata": {},
   "outputs": [
    {
     "name": "stdout",
     "output_type": "stream",
     "text": [
      "array: [0 1 2 3 4 5 6 7 8 9]\n",
      "[9]\n"
     ]
    }
   ],
   "source": [
    "#how to get n largest value from an array\n",
    "import numpy as np\n",
    "a = np.arange(10)\n",
    "print('array:',a)\n",
    "np.random.shuffle(a)\n",
    "n = 1\n",
    "print(a[np.argsort(a)[-n:]])"
   ]
  },
  {
   "cell_type": "code",
   "execution_count": 44,
   "id": "27ac98c1",
   "metadata": {},
   "outputs": [
    {
     "name": "stdout",
     "output_type": "stream",
     "text": [
      "[(1, 'Alex', 12) (2, 'siri', 13) (3, 'dennis', 14)]\n",
      "ID: [1 2 3]\n",
      "Name: ['Alex' 'siri' 'dennis']\n",
      "Age: [12 13 14]\n"
     ]
    }
   ],
   "source": [
    "#how to create record array from regular array\n",
    "import numpy as np\n",
    "record = [\n",
    "            (1, 'Alex', 12),\n",
    "             (2, 'siri', 13),\n",
    "             (3, 'dennis', 14),\n",
    "           ]\n",
    "dtype = [('ID', int), ('Name', 'U10'), ('Age', int)]\n",
    "result = np.array(record, dtype=dtype)\n",
    "print(result)\n",
    "print(\"ID:\", result['ID'])\n",
    "print(\"Name:\", result['Name'])\n",
    "print(\"Age:\", result['Age'])\n",
    "\n"
   ]
  },
  {
   "cell_type": "code",
   "execution_count": 46,
   "id": "d5fa4c4a",
   "metadata": {},
   "outputs": [
    {
     "name": "stdout",
     "output_type": "stream",
     "text": [
      "a before swapping [[0.22200301 0.83823998]\n",
      " [0.79746686 0.73091593]]\n",
      "a after swapping [[0.79746686 0.73091593]\n",
      " [0.22200301 0.83823998]]\n"
     ]
    }
   ],
   "source": [
    "#how to swap two rows in array\n",
    "import numpy as np\n",
    "a = np.random.random((2,2))\n",
    "print('a before swapping',a)\n",
    "a[[1,0]]=a[[0,1]]\n",
    "print('a after swapping',a)"
   ]
  },
  {
   "cell_type": "code",
   "execution_count": 48,
   "id": "9360470a",
   "metadata": {},
   "outputs": [
    {
     "name": "stdout",
     "output_type": "stream",
     "text": [
      "[[ 23  34 121]\n",
      " [ 23  22  67]\n",
      " [686 434 123]]\n",
      "[[[ 23]\n",
      "  [ 34]\n",
      "  [121]]\n",
      "\n",
      " [[ 23]\n",
      "  [ 22]\n",
      "  [ 67]]\n",
      "\n",
      " [[686]\n",
      "  [434]\n",
      "  [123]]]\n"
     ]
    }
   ],
   "source": [
    "#write python code to reshape to the next dimension\n",
    "import numpy as np \n",
    "x=np.array([[23,34,121],[23,22,67],[686,434,123]])\n",
    "print(x)\n",
    "reshaped = x.reshape(x.shape[0],x.shape[1],1)\n",
    "print(reshaped)"
   ]
  },
  {
   "cell_type": "code",
   "execution_count": null,
   "id": "9bfaa9b5",
   "metadata": {},
   "outputs": [],
   "source": []
  }
 ],
 "metadata": {
  "kernelspec": {
   "display_name": "Python 3 (ipykernel)",
   "language": "python",
   "name": "python3"
  },
  "language_info": {
   "codemirror_mode": {
    "name": "ipython",
    "version": 3
   },
   "file_extension": ".py",
   "mimetype": "text/x-python",
   "name": "python",
   "nbconvert_exporter": "python",
   "pygments_lexer": "ipython3",
   "version": "3.11.4"
  }
 },
 "nbformat": 4,
 "nbformat_minor": 5
}
