{
 "cells": [
  {
   "cell_type": "code",
   "execution_count": 1,
   "id": "aaca82a9",
   "metadata": {},
   "outputs": [
    {
     "data": {
      "text/html": [
       "<div>\n",
       "<style scoped>\n",
       "    .dataframe tbody tr th:only-of-type {\n",
       "        vertical-align: middle;\n",
       "    }\n",
       "\n",
       "    .dataframe tbody tr th {\n",
       "        vertical-align: top;\n",
       "    }\n",
       "\n",
       "    .dataframe thead th {\n",
       "        text-align: right;\n",
       "    }\n",
       "</style>\n",
       "<table border=\"1\" class=\"dataframe\">\n",
       "  <thead>\n",
       "    <tr style=\"text-align: right;\">\n",
       "      <th></th>\n",
       "      <th>title</th>\n",
       "      <th>year</th>\n",
       "      <th>country</th>\n",
       "      <th>date</th>\n",
       "    </tr>\n",
       "  </thead>\n",
       "  <tbody>\n",
       "    <tr>\n",
       "      <th>0</th>\n",
       "      <td>#73, Shaanthi Nivaasa</td>\n",
       "      <td>2007</td>\n",
       "      <td>India</td>\n",
       "      <td>2007-06-15</td>\n",
       "    </tr>\n",
       "    <tr>\n",
       "      <th>1</th>\n",
       "      <td>#BKKY</td>\n",
       "      <td>2016</td>\n",
       "      <td>Cambodia</td>\n",
       "      <td>2017-10-12</td>\n",
       "    </tr>\n",
       "    <tr>\n",
       "      <th>2</th>\n",
       "      <td>#Beings</td>\n",
       "      <td>2015</td>\n",
       "      <td>Romania</td>\n",
       "      <td>2015-01-29</td>\n",
       "    </tr>\n",
       "    <tr>\n",
       "      <th>3</th>\n",
       "      <td>#Captured</td>\n",
       "      <td>2017</td>\n",
       "      <td>USA</td>\n",
       "      <td>2017-09-05</td>\n",
       "    </tr>\n",
       "    <tr>\n",
       "      <th>4</th>\n",
       "      <td>#Ewankosau saranghaeyo</td>\n",
       "      <td>2015</td>\n",
       "      <td>Philippines</td>\n",
       "      <td>2015-01-21</td>\n",
       "    </tr>\n",
       "  </tbody>\n",
       "</table>\n",
       "</div>"
      ],
      "text/plain": [
       "                    title  year      country        date\n",
       "0   #73, Shaanthi Nivaasa  2007        India  2007-06-15\n",
       "1                   #BKKY  2016     Cambodia  2017-10-12\n",
       "2                 #Beings  2015      Romania  2015-01-29\n",
       "3               #Captured  2017          USA  2017-09-05\n",
       "4  #Ewankosau saranghaeyo  2015  Philippines  2015-01-21"
      ]
     },
     "execution_count": 1,
     "metadata": {},
     "output_type": "execute_result"
    }
   ],
   "source": [
    "%matplotlib inline\n",
    "import pandas as pd\n",
    "import matplotlib.pyplot as plt\n",
    "from IPython.core.display import HTML\n",
    "release_dates = pd.read_csv('downloads/release_dates.csv')\n",
    "release_dates.head()"
   ]
  },
  {
   "cell_type": "code",
   "execution_count": null,
   "id": "550ff98a",
   "metadata": {},
   "outputs": [],
   "source": [
    "filtered_release_date = release_date[(release_date['Title'].str.contains('Christmas', case=False)) & (release_date['Country'] == 'USA')]"
   ]
  },
  {
   "cell_type": "code",
   "execution_count": null,
   "id": "bc7f5ceb",
   "metadata": {},
   "outputs": [],
   "source": [
    "plt.bar(month_counts.index, month_counts.values, tick_label=[calendar.month_abbr[i] for i in month_counts.index])\n",
    "plt.xlabel('Month')\n",
    "plt.ylabel('Number of Movies')\n",
    "plt.title('Movies with \"Christmas\" in Title Released in the USA by Month')\n",
    "plt.show()\n",
    "filtered_release_date = release_date[(release_date['Title'].str.contains('The hobbit', case=False)) & (release_date['The Hobbit'] == 'USA')]\n",
    "plt.bar(month_counts.index, month_counts.values, tick_label=[calendar.month_abbr[i] for i in month_counts.index])\n",
    "plt.xlabel('Month')\n",
    "plt.ylabel('Number of Movies')\n",
    "plt.show\n",
    "\n",
    "filtered_release_date = release_date[(release_date['Title'].str.contains('Romance', case=False)) & (release_date['Romance'] == 'USA')]\n",
    "plt.bar(month_counts.index, month_counts.values, tick_label=[calendar.month_abbr[i] for i in month_counts.index])\n",
    "plt.xlabel('Month')\n",
    "plt.ylabel('Number of Movies')\n",
    "plt.show()\n",
    "\n",
    "filtered_release_date = release_date[(release_date['Title'].str.contains('Action', case=False)) & (release_date['Action'] == 'USA')]\n",
    "plt.bar(month_counts.index, month_counts.values, tick_label=[calendar.month_abbr[i] for i in month_counts.index])\n",
    "plt.xlabel('Month')\n",
    "plt.ylabel('Number of Movies')\n",
    "plt.show"
   ]
  },
  {
   "cell_type": "code",
   "execution_count": 2,
   "id": "aa4c27bd",
   "metadata": {},
   "outputs": [
    {
     "data": {
      "image/png": "[encoded data removed]",
      "text/plain": [
       "<Figure size 640x480 with 1 Axes>"
      ]
     },
     "metadata": {},
     "output_type": "display_data"
    }
   ],
   "source": [
    "%matplotlib inline\n",
    "import matplotlib.pyplot as plt\n",
    "import pandas as pd\n",
    "from IPython.core.display import HTML\n",
    "cast = pd.read_csv('downloads/cast.csv')\n",
    "filter_cast = cast[(cast['name'].str.contains('Judy Dench', case=False)) & (cast['year'] == '1990')]\n",
    "plt.xlabel('title')\n",
    "plt.ylabel('year')\n",
    "plt.show()"
   ]
  },
  {
   "cell_type": "code",
   "execution_count": 4,
   "id": "71a16348",
   "metadata": {},
   "outputs": [
    {
     "data": {
      "image/png": "[encoded data removed]",
      "text/plain": [
       "<Figure size 640x480 with 1 Axes>"
      ]
     },
     "metadata": {},
     "output_type": "display_data"
    }
   ],
   "source": [
    "filter_cast = cast[(cast['name'].str.contains('Judy Dench', case=False))]\n",
    "plt.xlabel('title')\n",
    "plt.ylabel('year')\n",
    "plt.show()"
   ]
  },
  {
   "cell_type": "code",
   "execution_count": null,
   "id": "3906336c",
   "metadata": {},
   "outputs": [],
   "source": [
    "filtered_release_date = release_date[(release_date['Title'].str.contains('Christmas', case=False)) & (release_date['The Hobbit'] == 'USA')]"
   ]
  }
 ],
 "metadata": {
  "kernelspec": {
   "display_name": "Python 3 (ipykernel)",
   "language": "python",
   "name": "python3"
  },
  "language_info": {
   "codemirror_mode": {
    "name": "ipython",
    "version": 3
   },
   "file_extension": ".py",
   "mimetype": "text/x-python",
   "name": "python",
   "nbconvert_exporter": "python",
   "pygments_lexer": "ipython3",
   "version": "3.11.4"
  }
 },
 "nbformat": 4,
 "nbformat_minor": 5
}
