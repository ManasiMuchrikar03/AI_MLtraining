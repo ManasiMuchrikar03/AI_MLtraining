{
  "nbformat": 4,
  "nbformat_minor": 0,
  "metadata": {
    "colab": {
      "provenance": [],
      "authorship_tag": "ABX9TyOvcPfoWRN//6thMF1zS6xU",
      "include_colab_link": true
    },
    "kernelspec": {
      "name": "python3",
      "display_name": "Python 3"
    },
    "language_info": {
      "name": "python"
    }
  },
  "cells": [
    {
      "cell_type": "markdown",
      "metadata": {
        "id": "view-in-github",
        "colab_type": "text"
      },
      "source": [
        "<a href=\"https://colab.research.google.com/github/ManasiMuchrikar03/AI_MLtraining/blob/main/manasi_2576602_day1.ipynb\" target=\"_parent\"><img src=\"https://colab.research.google.com/assets/colab-badge.svg\" alt=\"Open In Colab\"/></a>"
      ]
    },
    {
      "cell_type": "code",
      "execution_count": null,
      "metadata": {
        "colab": {
          "base_uri": "https://localhost:8080/"
        },
        "id": "JCcZXmtgqgp9",
        "outputId": "6b90fa81-5e39-4ef4-bebe-c9d327847d30"
      },
      "outputs": [
        {
          "output_type": "execute_result",
          "data": {
            "text/plain": [
              "['manasi', 'al_ml', 232]"
            ]
          },
          "metadata": {},
          "execution_count": 1
        }
      ],
      "source": [
        "lst = ['manasi' , 'al_ml' , 232 ] #1\n",
        "lst\n"
      ]
    },
    {
      "cell_type": "code",
      "source": [
        "lst.append('muchrikar') #1(i)\n",
        "lst"
      ],
      "metadata": {
        "colab": {
          "base_uri": "https://localhost:8080/"
        },
        "id": "Tk9ldADErtOW",
        "outputId": "19795e49-296b-401e-ee82-12695d0a98ae"
      },
      "execution_count": null,
      "outputs": [
        {
          "output_type": "execute_result",
          "data": {
            "text/plain": [
              "['manasi', 'al_ml', 232, 'muchrikar', 'muchrikar']"
            ]
          },
          "metadata": {},
          "execution_count": 3
        }
      ]
    },
    {
      "cell_type": "code",
      "source": [
        "lst.reverse() #1(ii)\n",
        "lst\n"
      ],
      "metadata": {
        "colab": {
          "base_uri": "https://localhost:8080/"
        },
        "id": "thXiCbOct0_f",
        "outputId": "861d7e2c-467f-4478-df47-5280be09d046"
      },
      "execution_count": null,
      "outputs": [
        {
          "output_type": "execute_result",
          "data": {
            "text/plain": [
              "['manasi', 'al_ml', 232, 'muchrikar', 'muchrikar']"
            ]
          },
          "metadata": {},
          "execution_count": 5
        }
      ]
    },
    {
      "cell_type": "code",
      "source": [
        "lst_2 = ['high' , 'end' , 'tech'] #1(iii)\n",
        "lst_joined = lst + lst_2\n",
        "lst_joined\n"
      ],
      "metadata": {
        "colab": {
          "base_uri": "https://localhost:8080/"
        },
        "id": "GmhguVh0uPMD",
        "outputId": "967553f0-8827-43a4-907d-365037c15c4b"
      },
      "execution_count": null,
      "outputs": [
        {
          "output_type": "execute_result",
          "data": {
            "text/plain": [
              "['manasi', 'al_ml', 232, 'muchrikar', 'muchrikar', 'high', 'end', 'tech']"
            ]
          },
          "metadata": {},
          "execution_count": 10
        }
      ]
    },
    {
      "cell_type": "code",
      "source": [
        "lst.reverse() #1(v)\n",
        "lst"
      ],
      "metadata": {
        "colab": {
          "base_uri": "https://localhost:8080/"
        },
        "id": "CeetsG6kyjn7",
        "outputId": "728d1608-f8c3-4417-dead-331f22e66437"
      },
      "execution_count": null,
      "outputs": [
        {
          "output_type": "execute_result",
          "data": {
            "text/plain": [
              "['muchrikar', 'muchrikar', 232, 'al_ml', 'manasi']"
            ]
          },
          "metadata": {},
          "execution_count": 13
        }
      ]
    },
    {
      "cell_type": "markdown",
      "source": [
        "2)write programme to do in the\n",
        "tuples"
      ],
      "metadata": {
        "id": "QY8uQZUPy04x"
      }
    },
    {
      "cell_type": "code",
      "source": [
        "tup = (32.5 , 'python' , 'aiml' , 232) #2(i)\n",
        "tup.count(2)"
      ],
      "metadata": {
        "colab": {
          "base_uri": "https://localhost:8080/"
        },
        "id": "QF872J5dzP7-",
        "outputId": "e7feece0-6f5b-4352-e641-6383f967faf9"
      },
      "execution_count": null,
      "outputs": [
        {
          "output_type": "execute_result",
          "data": {
            "text/plain": [
              "0"
            ]
          },
          "metadata": {},
          "execution_count": 15
        }
      ]
    },
    {
      "cell_type": "code",
      "source": [
        "tup_1 = ('jupyter' , 'notebook') #2(ii)\n",
        "tup_join = tup + tup_1\n",
        "tup_join"
      ],
      "metadata": {
        "colab": {
          "base_uri": "https://localhost:8080/"
        },
        "id": "4bz25-Ku0AbO",
        "outputId": "8fa5e642-5753-430c-8531-cbc6a9e7970d"
      },
      "execution_count": null,
      "outputs": [
        {
          "output_type": "execute_result",
          "data": {
            "text/plain": [
              "(32.5, 'python', 'aiml', 232, 'jupyter', 'notebook')"
            ]
          },
          "metadata": {},
          "execution_count": 16
        }
      ]
    },
    {
      "cell_type": "code",
      "source": [
        "result = reversed(tup) #2(iii)\n",
        "result"
      ],
      "metadata": {
        "colab": {
          "base_uri": "https://localhost:8080/"
        },
        "id": "2wZnbX9G1gAh",
        "outputId": "f153b9ac-a354-42d4-ed2b-6d5057fb4381"
      },
      "execution_count": null,
      "outputs": [
        {
          "output_type": "execute_result",
          "data": {
            "text/plain": [
              "<reversed at 0x7b7b8ebb7b50>"
            ]
          },
          "metadata": {},
          "execution_count": 17
        }
      ]
    },
    {
      "cell_type": "code",
      "source": [
        "tup_new = tup*4 #2(iv)\n",
        "tup_new\n"
      ],
      "metadata": {
        "colab": {
          "base_uri": "https://localhost:8080/"
        },
        "id": "w2vA8KqX2Puz",
        "outputId": "71c35870-3a96-43e6-f895-9ec91cd821fc"
      },
      "execution_count": null,
      "outputs": [
        {
          "output_type": "execute_result",
          "data": {
            "text/plain": [
              "(32.5,\n",
              " 'python',\n",
              " 'aiml',\n",
              " 232,\n",
              " 32.5,\n",
              " 'python',\n",
              " 'aiml',\n",
              " 232,\n",
              " 32.5,\n",
              " 'python',\n",
              " 'aiml',\n",
              " 232,\n",
              " 32.5,\n",
              " 'python',\n",
              " 'aiml',\n",
              " 232)"
            ]
          },
          "metadata": {},
          "execution_count": 19
        }
      ]
    },
    {
      "cell_type": "code",
      "source": [
        "tup_c = ['delhi' , 'mumbai' , 'bangalore'] #2(v)\n",
        "tup_d = ['patna' , 'pune' , 'nagpur']\n",
        "tup_joined = tup_c + tup_d"
      ],
      "metadata": {
        "id": "umCjlANK3C5b"
      },
      "execution_count": null,
      "outputs": []
    },
    {
      "cell_type": "code",
      "source": [
        "tup_c.sort()  #2(vi)"
      ],
      "metadata": {
        "id": "-KXY9oxB2F50"
      },
      "execution_count": null,
      "outputs": []
    },
    {
      "cell_type": "markdown",
      "source": [
        "3) write python prpgramme to implement using following list\n"
      ],
      "metadata": {
        "id": "qeqaT-Mk6Zi8"
      }
    },
    {
      "cell_type": "code",
      "source": [
        "lst_third = [2 , 6, 15 , 10, 13 , 16, 23 , 36 , 48 , 1 ] #3(i)\n",
        "lst_third"
      ],
      "metadata": {
        "colab": {
          "base_uri": "https://localhost:8080/"
        },
        "id": "t0L_trbZ6yvj",
        "outputId": "7de6ec15-84ee-4f24-c684-461d4f78541f"
      },
      "execution_count": null,
      "outputs": [
        {
          "output_type": "execute_result",
          "data": {
            "text/plain": [
              "[2, 6, 15, 10, 13, 16, 23, 36, 48, 1]"
            ]
          },
          "metadata": {},
          "execution_count": 24
        }
      ]
    },
    {
      "cell_type": "code",
      "source": [
        "lst_third.sort() #3(ii)\n",
        "lst_third [-1]"
      ],
      "metadata": {
        "colab": {
          "base_uri": "https://localhost:8080/"
        },
        "id": "SdpQWCJZ7nRE",
        "outputId": "41f9d8c2-d664-499c-d035-0971a4f06c6f"
      },
      "execution_count": null,
      "outputs": [
        {
          "output_type": "execute_result",
          "data": {
            "text/plain": [
              "48"
            ]
          },
          "metadata": {},
          "execution_count": 25
        }
      ]
    },
    {
      "cell_type": "code",
      "source": [
        "lst_third[0:4] #3(iii)"
      ],
      "metadata": {
        "colab": {
          "base_uri": "https://localhost:8080/"
        },
        "id": "6bkwrQjj8abe",
        "outputId": "4deb35b4-b74a-4287-c0ac-bac343d2d31d"
      },
      "execution_count": null,
      "outputs": [
        {
          "output_type": "execute_result",
          "data": {
            "text/plain": [
              "[1, 2, 6, 10]"
            ]
          },
          "metadata": {},
          "execution_count": 26
        }
      ]
    },
    {
      "cell_type": "code",
      "source": [
        "lst_third[2:] #3(iv)\n",
        "lst_third[0:6] #3(v)"
      ],
      "metadata": {
        "id": "S8_Roqll9Goe"
      },
      "execution_count": null,
      "outputs": []
    },
    {
      "cell_type": "markdown",
      "source": [
        " 4)write a python programme tuple1\n"
      ],
      "metadata": {
        "id": "6z9WG_q-9qpJ"
      }
    },
    {
      "cell_type": "code",
      "source": [
        "tup_4 = (10 ,50 ,20 ,40 , 30) #4(i)\n",
        "tup_4[0:2]\n"
      ],
      "metadata": {
        "colab": {
          "base_uri": "https://localhost:8080/"
        },
        "id": "yH-6N3PL9zOM",
        "outputId": "2186c573-8961-4fa9-b69e-0a127b517640"
      },
      "execution_count": null,
      "outputs": [
        {
          "output_type": "execute_result",
          "data": {
            "text/plain": [
              "(10, 50)"
            ]
          },
          "metadata": {},
          "execution_count": 28
        }
      ]
    },
    {
      "cell_type": "code",
      "source": [
        "len(tup_4) #4(ii)"
      ],
      "metadata": {
        "colab": {
          "base_uri": "https://localhost:8080/"
        },
        "id": "UmXvTSM1-93h",
        "outputId": "3bd3484c-f153-4e2e-96cf-ca07fc5f7575"
      },
      "execution_count": null,
      "outputs": [
        {
          "output_type": "execute_result",
          "data": {
            "text/plain": [
              "5"
            ]
          },
          "metadata": {},
          "execution_count": 29
        }
      ]
    },
    {
      "cell_type": "code",
      "source": [
        "min(tup_4)#4(iii)\n"
      ],
      "metadata": {
        "colab": {
          "base_uri": "https://localhost:8080/"
        },
        "id": "7RYqmwSp_R1C",
        "outputId": "c0e1c292-fb50-4cb2-8fc8-33391cc8bfd8"
      },
      "execution_count": null,
      "outputs": [
        {
          "output_type": "execute_result",
          "data": {
            "text/plain": [
              "10"
            ]
          },
          "metadata": {},
          "execution_count": 31
        }
      ]
    },
    {
      "cell_type": "code",
      "source": [
        "count = 0 #4(iv)\n",
        "for i in tup_4:\n",
        "  count = count + i\n",
        "count\n",
        "\n",
        "\n"
      ],
      "metadata": {
        "colab": {
          "base_uri": "https://localhost:8080/"
        },
        "id": "dIKTirJvAp95",
        "outputId": "2500480a-e406-43e6-da04-2290f6f35498"
      },
      "execution_count": null,
      "outputs": [
        {
          "output_type": "execute_result",
          "data": {
            "text/plain": [
              "150"
            ]
          },
          "metadata": {},
          "execution_count": 34
        }
      ]
    },
    {
      "cell_type": "code",
      "source": [
        "result_tup = tup_4 * 4 #4(v)"
      ],
      "metadata": {
        "id": "64ZYPeLZBUIC"
      },
      "execution_count": null,
      "outputs": []
    },
    {
      "cell_type": "markdown",
      "source": [
        "5) write python progrmme"
      ],
      "metadata": {
        "id": "v_zK8onqCG6a"
      }
    },
    {
      "cell_type": "code",
      "source": [
        "str_1 = 'south india'\n",
        "len(str_1)\n",
        "str_1[::-1]\n",
        "result_str = str_1 * 5\n",
        "str_1[0::3]\n"
      ],
      "metadata": {
        "id": "g2PeJ98eCT29"
      },
      "execution_count": null,
      "outputs": []
    },
    {
      "cell_type": "markdown",
      "source": [
        "6)perform the following"
      ],
      "metadata": {
        "id": "M42idxzzEp_X"
      }
    },
    {
      "cell_type": "code",
      "source": [
        "employee = {                  #6(i)\n",
        "    'f_name': 'john' ,\n",
        "    'l_name': 'mathew' ,\n",
        "     'emp_id' : 123\n",
        "}"
      ],
      "metadata": {
        "id": "gm_Oyyp9EyEd"
      },
      "execution_count": null,
      "outputs": []
    },
    {
      "cell_type": "code",
      "source": [
        "employee.update()\n",
        "x = employee['f_name']  #6(ii)\n",
        "y = employee['l_name']\n",
        "\n",
        "employee.clear()  #6(iv)"
      ],
      "metadata": {
        "id": "yX75sVKmF7r2"
      },
      "execution_count": null,
      "outputs": []
    },
    {
      "cell_type": "markdown",
      "source": [
        "7)write a python programme to insert a number in list"
      ],
      "metadata": {
        "id": "NaxiBbIwIkr2"
      }
    },
    {
      "cell_type": "code",
      "source": [
        "lst_third = [2 , 6, 15 , 10, 13 , 16, 23 , 36 , 48 , 1 ]\n",
        "lst_third.insert(3 , 16)"
      ],
      "metadata": {
        "id": "QqZL8zvmI7PC"
      },
      "execution_count": null,
      "outputs": []
    },
    {
      "cell_type": "markdown",
      "source": [
        "8) python programme to delete an element from list"
      ],
      "metadata": {
        "id": "ReBCm3fcJw8s"
      }
    },
    {
      "cell_type": "code",
      "source": [
        "lst_third = [2 , 6, 15 , 10, 13 , 16, 23 , 36 , 48 , 1 ]\n",
        "lst_third.remove(16)\n",
        "lst_third.pop()"
      ],
      "metadata": {
        "colab": {
          "base_uri": "https://localhost:8080/"
        },
        "id": "ke_GBjUrKYws",
        "outputId": "85adeb0c-8723-493c-cbed-2c29c738e6eb"
      },
      "execution_count": null,
      "outputs": [
        {
          "output_type": "execute_result",
          "data": {
            "text/plain": [
              "36"
            ]
          },
          "metadata": {},
          "execution_count": 37
        }
      ]
    },
    {
      "cell_type": "markdown",
      "source": [
        "9)write python programme to display number from 1 to 100"
      ],
      "metadata": {
        "id": "T6ArqtBuL2d6"
      }
    },
    {
      "cell_type": "code",
      "source": [
        "for i in range(1 , 101):\n",
        "  print(i)"
      ],
      "metadata": {
        "id": "mIwbaR4rMP0t"
      },
      "execution_count": null,
      "outputs": []
    },
    {
      "cell_type": "markdown",
      "source": [
        "write programme to find sum of all elements in tuples"
      ],
      "metadata": {
        "id": "SqZHoGKnOpLH"
      }
    },
    {
      "cell_type": "code",
      "source": [
        "tup_4 = (10 ,50 ,20 ,40 , 30)\n",
        "count = 0\n",
        "for i in tup_4:\n",
        "  count += i\n",
        "count\n",
        "\n"
      ],
      "metadata": {
        "colab": {
          "base_uri": "https://localhost:8080/"
        },
        "id": "GFIdnzNsftOB",
        "outputId": "8fa56611-0cd9-4cb5-c063-2e6734e8a967"
      },
      "execution_count": null,
      "outputs": [
        {
          "output_type": "execute_result",
          "data": {
            "text/plain": [
              "150"
            ]
          },
          "metadata": {},
          "execution_count": 3
        }
      ]
    },
    {
      "cell_type": "markdown",
      "source": [
        "write python programme to print table of any number"
      ],
      "metadata": {
        "id": "g0b6rI0Lg3FN"
      }
    },
    {
      "cell_type": "code",
      "source": [
        "number = int(input('enter the number'))\n",
        "for i in range (1 ,11):\n",
        "  print(number , 'x' , i ,'=', number * i)"
      ],
      "metadata": {
        "colab": {
          "base_uri": "https://localhost:8080/"
        },
        "id": "gbQkSWhanHfV",
        "outputId": "23b9eee6-8d15-4215-a9c9-bfb8a8532184"
      },
      "execution_count": null,
      "outputs": [
        {
          "output_type": "stream",
          "name": "stdout",
          "text": [
            "enter the number2\n",
            "2 x 1 = 2\n",
            "2 x 2 = 4\n",
            "2 x 3 = 6\n",
            "2 x 4 = 8\n",
            "2 x 5 = 10\n",
            "2 x 6 = 12\n",
            "2 x 7 = 14\n",
            "2 x 8 = 16\n",
            "2 x 9 = 18\n",
            "2 x 10 = 20\n"
          ]
        }
      ]
    },
    {
      "cell_type": "markdown",
      "source": [
        "write python programme to find sum of odd and even numbers that fall between 12 and 37"
      ],
      "metadata": {
        "id": "nDRZNSMuoQWi"
      }
    },
    {
      "cell_type": "code",
      "source": [
        "for i in range (12 , 37):\n",
        "  if i % 2 == 0:\n",
        "    sum += i\n",
        "  elif\n",
        "    sum += i\n"
      ],
      "metadata": {
        "id": "SL4Mf6UwpUBy"
      },
      "execution_count": null,
      "outputs": []
    },
    {
      "cell_type": "markdown",
      "source": [
        "write python programme to take tempreture in celcius and convert it to farhenite"
      ],
      "metadata": {
        "id": "Q0rAfH8kqzxG"
      }
    },
    {
      "cell_type": "code",
      "source": [
        "temp_c = 40.2\n",
        "temp_f = (temp_c * 1.18) + 32\n",
        "print(temp_f)"
      ],
      "metadata": {
        "colab": {
          "base_uri": "https://localhost:8080/"
        },
        "id": "QPsJK60BrLyX",
        "outputId": "80005d2f-cbd4-455c-eb41-e09f08595e32"
      },
      "execution_count": null,
      "outputs": [
        {
          "output_type": "stream",
          "name": "stdout",
          "text": [
            "79.436\n"
          ]
        }
      ]
    },
    {
      "cell_type": "markdown",
      "source": [
        "write a python programme to find maximum and minimum number in a list without using in built function"
      ],
      "metadata": {
        "id": "PU3yHfrNsQNs"
      }
    },
    {
      "cell_type": "code",
      "source": [
        "lst_third = [2 , 6, 15 , 10, 13 , 16, 23 , 36 , 48 , 1 ]\n",
        "lst_third.sort()\n",
        "lst_third[-1]\n",
        "lst_third[0]"
      ],
      "metadata": {
        "colab": {
          "base_uri": "https://localhost:8080/"
        },
        "id": "u2BQJwQYsj5A",
        "outputId": "46839e19-5e61-4143-d88a-43e998bbe048"
      },
      "execution_count": null,
      "outputs": [
        {
          "output_type": "execute_result",
          "data": {
            "text/plain": [
              "1"
            ]
          },
          "metadata": {},
          "execution_count": 8
        }
      ]
    },
    {
      "cell_type": "markdown",
      "source": [
        "A high speed train can travel with speed 150mph. How long will it take to reach glassgow"
      ],
      "metadata": {
        "id": "qQH0CNVBtF4d"
      }
    },
    {
      "cell_type": "code",
      "source": [
        "speed = 150\n",
        "distance = 414 * 1609\n",
        "\n",
        "time = distance / speed\n",
        "time"
      ],
      "metadata": {
        "colab": {
          "base_uri": "https://localhost:8080/"
        },
        "id": "vsJwFOUUtuwa",
        "outputId": "466ca69b-7b19-4a8c-9bcb-e6665fe74a34"
      },
      "execution_count": null,
      "outputs": [
        {
          "output_type": "execute_result",
          "data": {
            "text/plain": [
              "4440.84"
            ]
          },
          "metadata": {},
          "execution_count": 9
        }
      ]
    }
  ]
}